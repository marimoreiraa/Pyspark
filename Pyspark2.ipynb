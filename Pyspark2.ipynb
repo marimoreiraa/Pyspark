{
  "nbformat": 4,
  "nbformat_minor": 0,
  "metadata": {
    "colab": {
      "name": "Pyspark2.ipynb",
      "provenance": [],
      "collapsed_sections": [],
      "mount_file_id": "1sUkwnHuiYC72dznnwPkPCq1pkNTBOlF6",
      "authorship_tag": "ABX9TyMM7K0/UilGgt28ZlIFOmnZ",
      "include_colab_link": true
    },
    "kernelspec": {
      "name": "python3",
      "display_name": "Python 3"
    },
    "language_info": {
      "name": "python"
    }
  },
  "cells": [
    {
      "cell_type": "markdown",
      "metadata": {
        "id": "view-in-github",
        "colab_type": "text"
      },
      "source": [
        "<a href=\"https://colab.research.google.com/github/MarianaDuartee/Pyspark/blob/main/Pyspark2.ipynb\" target=\"_parent\"><img src=\"https://colab.research.google.com/assets/colab-badge.svg\" alt=\"Open In Colab\"/></a>"
      ]
    },
    {
      "cell_type": "markdown",
      "metadata": {
        "id": "erX2uMcjI_eF"
      },
      "source": [
        "* Instalando o Pyspark"
      ]
    },
    {
      "cell_type": "code",
      "metadata": {
        "colab": {
          "base_uri": "https://localhost:8080/"
        },
        "id": "xlUI1UipIqVP",
        "outputId": "3716fc8a-55b2-49d5-a1b6-d7e826038bcf"
      },
      "source": [
        "! pip install pyspark"
      ],
      "execution_count": null,
      "outputs": [
        {
          "output_type": "stream",
          "name": "stdout",
          "text": [
            "Requirement already satisfied: pyspark in /usr/local/lib/python3.7/dist-packages (3.2.0)\n",
            "Requirement already satisfied: py4j==0.10.9.2 in /usr/local/lib/python3.7/dist-packages (from pyspark) (0.10.9.2)\n"
          ]
        }
      ]
    },
    {
      "cell_type": "markdown",
      "metadata": {
        "id": "kMvf7p4eJB4b"
      },
      "source": [
        "* Importando o SparkSession e as Funções"
      ]
    },
    {
      "cell_type": "code",
      "metadata": {
        "id": "k4MDKpBgItEL"
      },
      "source": [
        "from pyspark.sql import SparkSession\n",
        "import pyspark.sql.functions as F"
      ],
      "execution_count": null,
      "outputs": []
    },
    {
      "cell_type": "markdown",
      "metadata": {
        "id": "_tCGXSlqJGIn"
      },
      "source": [
        "* Configurando o SparkSession"
      ]
    },
    {
      "cell_type": "code",
      "metadata": {
        "id": "6AznkvFXI2a8"
      },
      "source": [
        "spark = (SparkSession.builder\n",
        "         .master(\"local\")\n",
        "         .appName(\"aprendendo-dataframes\")\n",
        "         .config(\"spark.ui.port\",\"4050\")\n",
        "         .getOrCreate())"
      ],
      "execution_count": null,
      "outputs": []
    },
    {
      "cell_type": "markdown",
      "metadata": {
        "id": "6hCITTe6JIKu"
      },
      "source": [
        "* Importar dados para o DataFrame"
      ]
    },
    {
      "cell_type": "code",
      "metadata": {
        "colab": {
          "base_uri": "https://localhost:8080/"
        },
        "id": "FVfutaDZJNsy",
        "outputId": "dfd56c6d-79a2-48a5-d353-16612e7ca64f"
      },
      "source": [
        "df = (spark\n",
        "      .read\n",
        "      .format(\"csv\")\n",
        "      .option(\"header\",\"true\")\n",
        "      .option(\"inferschema\",\"true\")\n",
        "      .option(\"delimiter\",\";\")\n",
        "      .load(\"/content/drive/MyDrive/DataSets/arquivo_geral.csv\")\n",
        "      )\n",
        "\n",
        "df.show()"
      ],
      "execution_count": null,
      "outputs": [
        {
          "output_type": "stream",
          "name": "stdout",
          "text": [
            "+------+------+----------+----------+---------------+-----------+----------------+\n",
            "|regiao|estado|      data|casosNovos|casosAcumulados|obitosNovos|obitosAcumulados|\n",
            "+------+------+----------+----------+---------------+-----------+----------------+\n",
            "| Norte|    RO|2020-01-30|         0|              0|          0|               0|\n",
            "| Norte|    RO|2020-01-31|         0|              0|          0|               0|\n",
            "| Norte|    RO|2020-02-01|         0|              0|          0|               0|\n",
            "| Norte|    RO|2020-02-02|         0|              0|          0|               0|\n",
            "| Norte|    RO|2020-02-03|         0|              0|          0|               0|\n",
            "| Norte|    RO|2020-02-04|         0|              0|          0|               0|\n",
            "| Norte|    RO|2020-02-05|         0|              0|          0|               0|\n",
            "| Norte|    RO|2020-02-06|         0|              0|          0|               0|\n",
            "| Norte|    RO|2020-02-07|         0|              0|          0|               0|\n",
            "| Norte|    RO|2020-02-08|         0|              0|          0|               0|\n",
            "| Norte|    RO|2020-02-09|         0|              0|          0|               0|\n",
            "| Norte|    RO|2020-02-10|         0|              0|          0|               0|\n",
            "| Norte|    RO|2020-02-11|         0|              0|          0|               0|\n",
            "| Norte|    RO|2020-02-12|         0|              0|          0|               0|\n",
            "| Norte|    RO|2020-02-13|         0|              0|          0|               0|\n",
            "| Norte|    RO|2020-02-14|         0|              0|          0|               0|\n",
            "| Norte|    RO|2020-02-15|         0|              0|          0|               0|\n",
            "| Norte|    RO|2020-02-16|         0|              0|          0|               0|\n",
            "| Norte|    RO|2020-02-17|         0|              0|          0|               0|\n",
            "| Norte|    RO|2020-02-18|         0|              0|          0|               0|\n",
            "+------+------+----------+----------+---------------+-----------+----------------+\n",
            "only showing top 20 rows\n",
            "\n"
          ]
        }
      ]
    },
    {
      "cell_type": "markdown",
      "metadata": {
        "id": "Vfboh74XICrc"
      },
      "source": [
        "#Outras Funções do Pyspark\n",
        "\n",
        "\n",
        "---\n",
        "\n",
        "* Para utilizar as funções abaixo, é necessário passar a modificação para outro Dataframe, como se fosse um backup, para nao perder os dados do dataframe original"
      ]
    },
    {
      "cell_type": "markdown",
      "metadata": {
        "id": "lH5zBVE9IXcr"
      },
      "source": [
        "#With Column\n",
        "\n",
        "* Criar uma nova coluna com um valor aleatorio\n",
        "\n",
        "Novodataframe = dataframeOriginal.withColumn('coluna a ser adicionada'),F.lit(valor escolhido))\n",
        "\n",
        "* F.lit - Com o WithColumn é necessário passar o valor absoluto|literal para a coluna nova\n",
        "\n",
        "* É possível passar so um valor igual para TODAS as colunas, ou passar vários valores dentro de uma lista"
      ]
    },
    {
      "cell_type": "code",
      "metadata": {
        "colab": {
          "base_uri": "https://localhost:8080/"
        },
        "id": "kFVusGqDHjMw",
        "outputId": "d5bdd112-5f3a-43c9-dfa0-3441214aa75e"
      },
      "source": [
        "valor = 25\n",
        "df_novo = df.withColumn(\"novo_valor\",F.lit(valor))\n",
        "\n",
        "df_novo.show(10)"
      ],
      "execution_count": null,
      "outputs": [
        {
          "output_type": "stream",
          "name": "stdout",
          "text": [
            "+------+------+----------+----------+---------------+-----------+----------------+----------+\n",
            "|regiao|estado|      data|casosNovos|casosAcumulados|obitosNovos|obitosAcumulados|novo_valor|\n",
            "+------+------+----------+----------+---------------+-----------+----------------+----------+\n",
            "| Norte|    RO|2020-01-30|         0|              0|          0|               0|        25|\n",
            "| Norte|    RO|2020-01-31|         0|              0|          0|               0|        25|\n",
            "| Norte|    RO|2020-02-01|         0|              0|          0|               0|        25|\n",
            "| Norte|    RO|2020-02-02|         0|              0|          0|               0|        25|\n",
            "| Norte|    RO|2020-02-03|         0|              0|          0|               0|        25|\n",
            "| Norte|    RO|2020-02-04|         0|              0|          0|               0|        25|\n",
            "| Norte|    RO|2020-02-05|         0|              0|          0|               0|        25|\n",
            "| Norte|    RO|2020-02-06|         0|              0|          0|               0|        25|\n",
            "| Norte|    RO|2020-02-07|         0|              0|          0|               0|        25|\n",
            "| Norte|    RO|2020-02-08|         0|              0|          0|               0|        25|\n",
            "+------+------+----------+----------+---------------+-----------+----------------+----------+\n",
            "only showing top 10 rows\n",
            "\n"
          ]
        }
      ]
    },
    {
      "cell_type": "code",
      "metadata": {
        "colab": {
          "base_uri": "https://localhost:8080/"
        },
        "id": "QSrtaMtmNBp-",
        "outputId": "db1753fc-622d-49c9-a04a-99517dafc72b"
      },
      "source": [
        "df_novo.printSchema()"
      ],
      "execution_count": null,
      "outputs": [
        {
          "output_type": "stream",
          "name": "stdout",
          "text": [
            "root\n",
            " |-- regiao: string (nullable = true)\n",
            " |-- estado: string (nullable = true)\n",
            " |-- data: string (nullable = true)\n",
            " |-- casosNovos: integer (nullable = true)\n",
            " |-- casosAcumulados: integer (nullable = true)\n",
            " |-- obitosNovos: integer (nullable = true)\n",
            " |-- obitosAcumulados: integer (nullable = true)\n",
            " |-- novo_valor: integer (nullable = false)\n",
            "\n"
          ]
        }
      ]
    },
    {
      "cell_type": "markdown",
      "metadata": {
        "id": "8hn-EyM0qUZt"
      },
      "source": [
        "* Criar nova coluna com os dados de algum calculo matematico entre outras duas colunas "
      ]
    },
    {
      "cell_type": "code",
      "metadata": {
        "colab": {
          "base_uri": "https://localhost:8080/"
        },
        "id": "3mVgLRfyqj6I",
        "outputId": "20364cef-d546-4ade-dfa1-17c9ddbdf20f"
      },
      "source": [
        "df_novo = df_novo.withColumn(\"soma_obitos_novos_acumulados\",F.col(\"obitosNovos\") + F.col(\"obitosAcumulados\"))\n",
        "\n",
        "df_novo.show(200)"
      ],
      "execution_count": 82,
      "outputs": [
        {
          "output_type": "stream",
          "name": "stdout",
          "text": [
            "+------+------+----------+----------+---------------+-----------+----------------+----------+----------------------------+\n",
            "|regiao|estado|      data|casosNovos|casosAcumulados|obitosNovos|obitosAcumulados|novo_valor|soma_obitos_novos_acumulados|\n",
            "+------+------+----------+----------+---------------+-----------+----------------+----------+----------------------------+\n",
            "| Norte|    RO|2020-01-30|         0|              0|          0|               0|        25|                           0|\n",
            "| Norte|    RO|2020-01-31|         0|              0|          0|               0|        25|                           0|\n",
            "| Norte|    RO|2020-02-01|         0|              0|          0|               0|        25|                           0|\n",
            "| Norte|    RO|2020-02-02|         0|              0|          0|               0|        25|                           0|\n",
            "| Norte|    RO|2020-02-03|         0|              0|          0|               0|        25|                           0|\n",
            "| Norte|    RO|2020-02-04|         0|              0|          0|               0|        25|                           0|\n",
            "| Norte|    RO|2020-02-05|         0|              0|          0|               0|        25|                           0|\n",
            "| Norte|    RO|2020-02-06|         0|              0|          0|               0|        25|                           0|\n",
            "| Norte|    RO|2020-02-07|         0|              0|          0|               0|        25|                           0|\n",
            "| Norte|    RO|2020-02-08|         0|              0|          0|               0|        25|                           0|\n",
            "| Norte|    RO|2020-02-09|         0|              0|          0|               0|        25|                           0|\n",
            "| Norte|    RO|2020-02-10|         0|              0|          0|               0|        25|                           0|\n",
            "| Norte|    RO|2020-02-11|         0|              0|          0|               0|        25|                           0|\n",
            "| Norte|    RO|2020-02-12|         0|              0|          0|               0|        25|                           0|\n",
            "| Norte|    RO|2020-02-13|         0|              0|          0|               0|        25|                           0|\n",
            "| Norte|    RO|2020-02-14|         0|              0|          0|               0|        25|                           0|\n",
            "| Norte|    RO|2020-02-15|         0|              0|          0|               0|        25|                           0|\n",
            "| Norte|    RO|2020-02-16|         0|              0|          0|               0|        25|                           0|\n",
            "| Norte|    RO|2020-02-17|         0|              0|          0|               0|        25|                           0|\n",
            "| Norte|    RO|2020-02-18|         0|              0|          0|               0|        25|                           0|\n",
            "| Norte|    RO|2020-02-19|         0|              0|          0|               0|        25|                           0|\n",
            "| Norte|    RO|2020-02-20|         0|              0|          0|               0|        25|                           0|\n",
            "| Norte|    RO|2020-02-21|         0|              0|          0|               0|        25|                           0|\n",
            "| Norte|    RO|2020-02-22|         0|              0|          0|               0|        25|                           0|\n",
            "| Norte|    RO|2020-02-23|         0|              0|          0|               0|        25|                           0|\n",
            "| Norte|    RO|2020-02-24|         0|              0|          0|               0|        25|                           0|\n",
            "| Norte|    RO|2020-02-25|         0|              0|          0|               0|        25|                           0|\n",
            "| Norte|    RO|2020-02-26|         0|              0|          0|               0|        25|                           0|\n",
            "| Norte|    RO|2020-02-27|         0|              0|          0|               0|        25|                           0|\n",
            "| Norte|    RO|2020-02-28|         0|              0|          0|               0|        25|                           0|\n",
            "| Norte|    RO|2020-02-29|         0|              0|          0|               0|        25|                           0|\n",
            "| Norte|    RO|2020-03-01|         0|              0|          0|               0|        25|                           0|\n",
            "| Norte|    RO|2020-03-02|         0|              0|          0|               0|        25|                           0|\n",
            "| Norte|    RO|2020-03-03|         0|              0|          0|               0|        25|                           0|\n",
            "| Norte|    RO|2020-03-04|         0|              0|          0|               0|        25|                           0|\n",
            "| Norte|    RO|2020-03-05|         0|              0|          0|               0|        25|                           0|\n",
            "| Norte|    RO|2020-03-06|         0|              0|          0|               0|        25|                           0|\n",
            "| Norte|    RO|2020-03-07|         0|              0|          0|               0|        25|                           0|\n",
            "| Norte|    RO|2020-03-08|         0|              0|          0|               0|        25|                           0|\n",
            "| Norte|    RO|2020-03-09|         0|              0|          0|               0|        25|                           0|\n",
            "| Norte|    RO|2020-03-10|         0|              0|          0|               0|        25|                           0|\n",
            "| Norte|    RO|2020-03-11|         0|              0|          0|               0|        25|                           0|\n",
            "| Norte|    RO|2020-03-12|         0|              0|          0|               0|        25|                           0|\n",
            "| Norte|    RO|2020-03-13|         0|              0|          0|               0|        25|                           0|\n",
            "| Norte|    RO|2020-03-14|         0|              0|          0|               0|        25|                           0|\n",
            "| Norte|    RO|2020-03-15|         0|              0|          0|               0|        25|                           0|\n",
            "| Norte|    RO|2020-03-16|         0|              0|          0|               0|        25|                           0|\n",
            "| Norte|    RO|2020-03-17|         0|              0|          0|               0|        25|                           0|\n",
            "| Norte|    RO|2020-03-18|         0|              0|          0|               0|        25|                           0|\n",
            "| Norte|    RO|2020-03-19|         0|              0|          0|               0|        25|                           0|\n",
            "| Norte|    RO|2020-03-20|         1|              1|          0|               0|        25|                           0|\n",
            "| Norte|    RO|2020-03-21|         0|              1|          0|               0|        25|                           0|\n",
            "| Norte|    RO|2020-03-22|         2|              3|          0|               0|        25|                           0|\n",
            "| Norte|    RO|2020-03-23|         0|              3|          0|               0|        25|                           0|\n",
            "| Norte|    RO|2020-03-24|         0|              3|          0|               0|        25|                           0|\n",
            "| Norte|    RO|2020-03-25|         2|              5|          0|               0|        25|                           0|\n",
            "| Norte|    RO|2020-03-26|         0|              5|          0|               0|        25|                           0|\n",
            "| Norte|    RO|2020-03-27|         1|              6|          0|               0|        25|                           0|\n",
            "| Norte|    RO|2020-03-28|         0|              6|          0|               0|        25|                           0|\n",
            "| Norte|    RO|2020-03-29|         0|              6|          0|               0|        25|                           0|\n",
            "| Norte|    RO|2020-03-30|         0|              6|          0|               0|        25|                           0|\n",
            "| Norte|    RO|2020-03-31|         2|              8|          1|               1|        25|                           2|\n",
            "| Norte|    RO|2020-04-01|         1|              9|          0|               1|        25|                           1|\n",
            "| Norte|    RO|2020-04-02|         1|             10|          0|               1|        25|                           1|\n",
            "| Norte|    RO|2020-04-03|         0|             10|          0|               1|        25|                           1|\n",
            "| Norte|    RO|2020-04-04|         1|             11|          0|               1|        25|                           1|\n",
            "| Norte|    RO|2020-04-05|         1|             12|          0|               1|        25|                           1|\n",
            "| Norte|    RO|2020-04-06|         2|             14|          0|               1|        25|                           1|\n",
            "| Norte|    RO|2020-04-07|         4|             18|          0|               1|        25|                           1|\n",
            "| Norte|    RO|2020-04-08|         0|             18|          0|               1|        25|                           1|\n",
            "| Norte|    RO|2020-04-09|        10|             28|          1|               2|        25|                           3|\n",
            "| Norte|    RO|2020-04-10|         4|             32|          0|               2|        25|                           2|\n",
            "| Norte|    RO|2020-04-11|         1|             33|          0|               2|        25|                           2|\n",
            "| Norte|    RO|2020-04-12|         2|             35|          0|               2|        25|                           2|\n",
            "| Norte|    RO|2020-04-13|         7|             42|          0|               2|        25|                           2|\n",
            "| Norte|    RO|2020-04-14|        22|             64|          0|               2|        25|                           2|\n",
            "| Norte|    RO|2020-04-15|         5|             69|          0|               2|        25|                           2|\n",
            "| Norte|    RO|2020-04-16|         7|             76|          1|               3|        25|                           4|\n",
            "| Norte|    RO|2020-04-17|        16|             92|          0|               3|        25|                           3|\n",
            "| Norte|    RO|2020-04-18|        18|            110|          0|               3|        25|                           3|\n",
            "| Norte|    RO|2020-04-19|        18|            128|          1|               4|        25|                           5|\n",
            "| Norte|    RO|2020-04-20|        32|            160|          0|               4|        25|                           4|\n",
            "| Norte|    RO|2020-04-21|        39|            199|          0|               4|        25|                           4|\n",
            "| Norte|    RO|2020-04-22|        24|            223|          1|               5|        25|                           6|\n",
            "| Norte|    RO|2020-04-23|        27|            250|          0|               5|        25|                           5|\n",
            "| Norte|    RO|2020-04-24|        40|            290|          0|               5|        25|                           5|\n",
            "| Norte|    RO|2020-04-25|        38|            328|          2|               7|        25|                           9|\n",
            "| Norte|    AC|2020-01-30|         0|              0|          0|               0|        25|                           0|\n",
            "| Norte|    AC|2020-01-31|         0|              0|          0|               0|        25|                           0|\n",
            "| Norte|    AC|2020-02-01|         0|              0|          0|               0|        25|                           0|\n",
            "| Norte|    AC|2020-02-02|         0|              0|          0|               0|        25|                           0|\n",
            "| Norte|    AC|2020-02-03|         0|              0|          0|               0|        25|                           0|\n",
            "| Norte|    AC|2020-02-04|         0|              0|          0|               0|        25|                           0|\n",
            "| Norte|    AC|2020-02-05|         0|              0|          0|               0|        25|                           0|\n",
            "| Norte|    AC|2020-02-06|         0|              0|          0|               0|        25|                           0|\n",
            "| Norte|    AC|2020-02-07|         0|              0|          0|               0|        25|                           0|\n",
            "| Norte|    AC|2020-02-08|         0|              0|          0|               0|        25|                           0|\n",
            "| Norte|    AC|2020-02-09|         0|              0|          0|               0|        25|                           0|\n",
            "| Norte|    AC|2020-02-10|         0|              0|          0|               0|        25|                           0|\n",
            "| Norte|    AC|2020-02-11|         0|              0|          0|               0|        25|                           0|\n",
            "| Norte|    AC|2020-02-12|         0|              0|          0|               0|        25|                           0|\n",
            "| Norte|    AC|2020-02-13|         0|              0|          0|               0|        25|                           0|\n",
            "| Norte|    AC|2020-02-14|         0|              0|          0|               0|        25|                           0|\n",
            "| Norte|    AC|2020-02-15|         0|              0|          0|               0|        25|                           0|\n",
            "| Norte|    AC|2020-02-16|         0|              0|          0|               0|        25|                           0|\n",
            "| Norte|    AC|2020-02-17|         0|              0|          0|               0|        25|                           0|\n",
            "| Norte|    AC|2020-02-18|         0|              0|          0|               0|        25|                           0|\n",
            "| Norte|    AC|2020-02-19|         0|              0|          0|               0|        25|                           0|\n",
            "| Norte|    AC|2020-02-20|         0|              0|          0|               0|        25|                           0|\n",
            "| Norte|    AC|2020-02-21|         0|              0|          0|               0|        25|                           0|\n",
            "| Norte|    AC|2020-02-22|         0|              0|          0|               0|        25|                           0|\n",
            "| Norte|    AC|2020-02-23|         0|              0|          0|               0|        25|                           0|\n",
            "| Norte|    AC|2020-02-24|         0|              0|          0|               0|        25|                           0|\n",
            "| Norte|    AC|2020-02-25|         0|              0|          0|               0|        25|                           0|\n",
            "| Norte|    AC|2020-02-26|         0|              0|          0|               0|        25|                           0|\n",
            "| Norte|    AC|2020-02-27|         0|              0|          0|               0|        25|                           0|\n",
            "| Norte|    AC|2020-02-28|         0|              0|          0|               0|        25|                           0|\n",
            "| Norte|    AC|2020-02-29|         0|              0|          0|               0|        25|                           0|\n",
            "| Norte|    AC|2020-03-01|         0|              0|          0|               0|        25|                           0|\n",
            "| Norte|    AC|2020-03-02|         0|              0|          0|               0|        25|                           0|\n",
            "| Norte|    AC|2020-03-03|         0|              0|          0|               0|        25|                           0|\n",
            "| Norte|    AC|2020-03-04|         0|              0|          0|               0|        25|                           0|\n",
            "| Norte|    AC|2020-03-05|         0|              0|          0|               0|        25|                           0|\n",
            "| Norte|    AC|2020-03-06|         0|              0|          0|               0|        25|                           0|\n",
            "| Norte|    AC|2020-03-07|         0|              0|          0|               0|        25|                           0|\n",
            "| Norte|    AC|2020-03-08|         0|              0|          0|               0|        25|                           0|\n",
            "| Norte|    AC|2020-03-09|         0|              0|          0|               0|        25|                           0|\n",
            "| Norte|    AC|2020-03-10|         0|              0|          0|               0|        25|                           0|\n",
            "| Norte|    AC|2020-03-11|         0|              0|          0|               0|        25|                           0|\n",
            "| Norte|    AC|2020-03-12|         0|              0|          0|               0|        25|                           0|\n",
            "| Norte|    AC|2020-03-13|         0|              0|          0|               0|        25|                           0|\n",
            "| Norte|    AC|2020-03-14|         0|              0|          0|               0|        25|                           0|\n",
            "| Norte|    AC|2020-03-15|         0|              0|          0|               0|        25|                           0|\n",
            "| Norte|    AC|2020-03-16|         0|              0|          0|               0|        25|                           0|\n",
            "| Norte|    AC|2020-03-17|         0|              0|          0|               0|        25|                           0|\n",
            "| Norte|    AC|2020-03-18|         0|              0|          0|               0|        25|                           0|\n",
            "| Norte|    AC|2020-03-19|         3|              3|          0|               0|        25|                           0|\n",
            "| Norte|    AC|2020-03-20|         4|              7|          0|               0|        25|                           0|\n",
            "| Norte|    AC|2020-03-21|         2|              9|          0|               0|        25|                           0|\n",
            "| Norte|    AC|2020-03-22|         2|             11|          0|               0|        25|                           0|\n",
            "| Norte|    AC|2020-03-23|         0|             11|          0|               0|        25|                           0|\n",
            "| Norte|    AC|2020-03-24|         6|             17|          0|               0|        25|                           0|\n",
            "| Norte|    AC|2020-03-25|         6|             23|          0|               0|        25|                           0|\n",
            "| Norte|    AC|2020-03-26|         1|             24|          0|               0|        25|                           0|\n",
            "| Norte|    AC|2020-03-27|         1|             25|          0|               0|        25|                           0|\n",
            "| Norte|    AC|2020-03-28|         0|             25|          0|               0|        25|                           0|\n",
            "| Norte|    AC|2020-03-29|         9|             34|          0|               0|        25|                           0|\n",
            "| Norte|    AC|2020-03-30|         8|             42|          0|               0|        25|                           0|\n",
            "| Norte|    AC|2020-03-31|         0|             42|          0|               0|        25|                           0|\n",
            "| Norte|    AC|2020-04-01|         1|             43|          0|               0|        25|                           0|\n",
            "| Norte|    AC|2020-04-02|         0|             43|          0|               0|        25|                           0|\n",
            "| Norte|    AC|2020-04-03|         3|             46|          0|               0|        25|                           0|\n",
            "| Norte|    AC|2020-04-04|         0|             46|          0|               0|        25|                           0|\n",
            "| Norte|    AC|2020-04-05|         2|             48|          0|               0|        25|                           0|\n",
            "| Norte|    AC|2020-04-06|         2|             50|          0|               0|        25|                           0|\n",
            "| Norte|    AC|2020-04-07|         0|             50|          1|               1|        25|                           2|\n",
            "| Norte|    AC|2020-04-08|         4|             54|          1|               2|        25|                           3|\n",
            "| Norte|    AC|2020-04-09|         8|             62|          0|               2|        25|                           2|\n",
            "| Norte|    AC|2020-04-10|         8|             70|          0|               2|        25|                           2|\n",
            "| Norte|    AC|2020-04-11|         2|             72|          0|               2|        25|                           2|\n",
            "| Norte|    AC|2020-04-12|         5|             77|          0|               2|        25|                           2|\n",
            "| Norte|    AC|2020-04-13|        13|             90|          1|               3|        25|                           4|\n",
            "| Norte|    AC|2020-04-14|         9|             99|          0|               3|        25|                           3|\n",
            "| Norte|    AC|2020-04-15|         2|            101|          0|               3|        25|                           3|\n",
            "| Norte|    AC|2020-04-16|         9|            110|          2|               5|        25|                           7|\n",
            "| Norte|    AC|2020-04-17|        25|            135|          0|               5|        25|                           5|\n",
            "| Norte|    AC|2020-04-18|         7|            142|          0|               5|        25|                           5|\n",
            "| Norte|    AC|2020-04-19|        21|            163|          1|               6|        25|                           7|\n",
            "| Norte|    AC|2020-04-20|        13|            176|          2|               8|        25|                          10|\n",
            "| Norte|    AC|2020-04-21|        19|            195|          0|               8|        25|                           8|\n",
            "| Norte|    AC|2020-04-22|        19|            214|          0|               8|        25|                           8|\n",
            "| Norte|    AC|2020-04-23|        13|            227|          2|              10|        25|                          12|\n",
            "| Norte|    AC|2020-04-24|         7|            234|          1|              11|        25|                          12|\n",
            "| Norte|    AC|2020-04-25|        24|            258|          0|              11|        25|                          11|\n",
            "| Norte|    AM|2020-01-30|         0|              0|          0|               0|        25|                           0|\n",
            "| Norte|    AM|2020-01-31|         0|              0|          0|               0|        25|                           0|\n",
            "| Norte|    AM|2020-02-01|         0|              0|          0|               0|        25|                           0|\n",
            "| Norte|    AM|2020-02-02|         0|              0|          0|               0|        25|                           0|\n",
            "| Norte|    AM|2020-02-03|         0|              0|          0|               0|        25|                           0|\n",
            "| Norte|    AM|2020-02-04|         0|              0|          0|               0|        25|                           0|\n",
            "| Norte|    AM|2020-02-05|         0|              0|          0|               0|        25|                           0|\n",
            "| Norte|    AM|2020-02-06|         0|              0|          0|               0|        25|                           0|\n",
            "| Norte|    AM|2020-02-07|         0|              0|          0|               0|        25|                           0|\n",
            "| Norte|    AM|2020-02-08|         0|              0|          0|               0|        25|                           0|\n",
            "| Norte|    AM|2020-02-09|         0|              0|          0|               0|        25|                           0|\n",
            "| Norte|    AM|2020-02-10|         0|              0|          0|               0|        25|                           0|\n",
            "| Norte|    AM|2020-02-11|         0|              0|          0|               0|        25|                           0|\n",
            "| Norte|    AM|2020-02-12|         0|              0|          0|               0|        25|                           0|\n",
            "| Norte|    AM|2020-02-13|         0|              0|          0|               0|        25|                           0|\n",
            "| Norte|    AM|2020-02-14|         0|              0|          0|               0|        25|                           0|\n",
            "| Norte|    AM|2020-02-15|         0|              0|          0|               0|        25|                           0|\n",
            "| Norte|    AM|2020-02-16|         0|              0|          0|               0|        25|                           0|\n",
            "| Norte|    AM|2020-02-17|         0|              0|          0|               0|        25|                           0|\n",
            "| Norte|    AM|2020-02-18|         0|              0|          0|               0|        25|                           0|\n",
            "| Norte|    AM|2020-02-19|         0|              0|          0|               0|        25|                           0|\n",
            "| Norte|    AM|2020-02-20|         0|              0|          0|               0|        25|                           0|\n",
            "| Norte|    AM|2020-02-21|         0|              0|          0|               0|        25|                           0|\n",
            "| Norte|    AM|2020-02-22|         0|              0|          0|               0|        25|                           0|\n",
            "| Norte|    AM|2020-02-23|         0|              0|          0|               0|        25|                           0|\n",
            "| Norte|    AM|2020-02-24|         0|              0|          0|               0|        25|                           0|\n",
            "+------+------+----------+----------+---------------+-----------+----------------+----------+----------------------------+\n",
            "only showing top 200 rows\n",
            "\n"
          ]
        }
      ]
    },
    {
      "cell_type": "markdown",
      "metadata": {
        "id": "Z27fJNgPqmmq"
      },
      "source": [
        "* Criar varias colunas de uma unica vez\n",
        "\n",
        "> withColumn().withColumn() ...\n",
        ">\n",
        "\n"
      ]
    },
    {
      "cell_type": "code",
      "metadata": {
        "colab": {
          "base_uri": "https://localhost:8080/"
        },
        "id": "4tbRj3vorWrf",
        "outputId": "5869d433-55f9-4135-f2b8-87e6cf5af736"
      },
      "source": [
        "df_novo = df_novo.withColumn('coluna1',F.lit(\"Conteudo 1\")).withColumn('coluna2',F.lit(\"Conteudo 2\"))\n",
        "\n",
        "df_novo.select(F.col('estado'),F.col('data'),F.col('coluna1'),F.col('coluna2')).show()"
      ],
      "execution_count": 83,
      "outputs": [
        {
          "output_type": "stream",
          "name": "stdout",
          "text": [
            "+------+----------+----------+----------+\n",
            "|estado|      data|   coluna1|   coluna2|\n",
            "+------+----------+----------+----------+\n",
            "|    RO|2020-01-30|Conteudo 1|Conteudo 2|\n",
            "|    RO|2020-01-31|Conteudo 1|Conteudo 2|\n",
            "|    RO|2020-02-01|Conteudo 1|Conteudo 2|\n",
            "|    RO|2020-02-02|Conteudo 1|Conteudo 2|\n",
            "|    RO|2020-02-03|Conteudo 1|Conteudo 2|\n",
            "|    RO|2020-02-04|Conteudo 1|Conteudo 2|\n",
            "|    RO|2020-02-05|Conteudo 1|Conteudo 2|\n",
            "|    RO|2020-02-06|Conteudo 1|Conteudo 2|\n",
            "|    RO|2020-02-07|Conteudo 1|Conteudo 2|\n",
            "|    RO|2020-02-08|Conteudo 1|Conteudo 2|\n",
            "|    RO|2020-02-09|Conteudo 1|Conteudo 2|\n",
            "|    RO|2020-02-10|Conteudo 1|Conteudo 2|\n",
            "|    RO|2020-02-11|Conteudo 1|Conteudo 2|\n",
            "|    RO|2020-02-12|Conteudo 1|Conteudo 2|\n",
            "|    RO|2020-02-13|Conteudo 1|Conteudo 2|\n",
            "|    RO|2020-02-14|Conteudo 1|Conteudo 2|\n",
            "|    RO|2020-02-15|Conteudo 1|Conteudo 2|\n",
            "|    RO|2020-02-16|Conteudo 1|Conteudo 2|\n",
            "|    RO|2020-02-17|Conteudo 1|Conteudo 2|\n",
            "|    RO|2020-02-18|Conteudo 1|Conteudo 2|\n",
            "+------+----------+----------+----------+\n",
            "only showing top 20 rows\n",
            "\n"
          ]
        }
      ]
    },
    {
      "cell_type": "markdown",
      "metadata": {
        "id": "Q7gKtAkhgRFn"
      },
      "source": [
        "* Criar um cast na nova coluna dentro do proprio dataframe"
      ]
    },
    {
      "cell_type": "code",
      "metadata": {
        "colab": {
          "base_uri": "https://localhost:8080/"
        },
        "id": "tzw33yS-NymO",
        "outputId": "d21a5f14-c7c6-4711-f14b-471524261f8a"
      },
      "source": [
        "df_novo = df_novo.withColumn('novo_valor', df_novo.novo_valor.cast(\"string\"))\n",
        "\n",
        "df_novo.printSchema()"
      ],
      "execution_count": 80,
      "outputs": [
        {
          "output_type": "stream",
          "name": "stdout",
          "text": [
            "root\n",
            " |-- regiao: string (nullable = true)\n",
            " |-- estado: string (nullable = true)\n",
            " |-- data: date (nullable = true)\n",
            " |-- casosNovos: integer (nullable = true)\n",
            " |-- casosAcumulados: integer (nullable = true)\n",
            " |-- obitosNovos: integer (nullable = true)\n",
            " |-- obitosAcumulados: integer (nullable = true)\n",
            " |-- novo_valor: string (nullable = false)\n",
            "\n"
          ]
        }
      ]
    },
    {
      "cell_type": "code",
      "metadata": {
        "colab": {
          "base_uri": "https://localhost:8080/"
        },
        "id": "QSskoXfRkNTu",
        "outputId": "b1267617-e096-4931-fcd8-f59927dd6aa1"
      },
      "source": [
        "df_novo = df_novo.withColumn('data',df_novo.data.cast(\"date\"))\n",
        "\n",
        "df_novo.printSchema()"
      ],
      "execution_count": 81,
      "outputs": [
        {
          "output_type": "stream",
          "name": "stdout",
          "text": [
            "root\n",
            " |-- regiao: string (nullable = true)\n",
            " |-- estado: string (nullable = true)\n",
            " |-- data: date (nullable = true)\n",
            " |-- casosNovos: integer (nullable = true)\n",
            " |-- casosAcumulados: integer (nullable = true)\n",
            " |-- obitosNovos: integer (nullable = true)\n",
            " |-- obitosAcumulados: integer (nullable = true)\n",
            " |-- novo_valor: string (nullable = false)\n",
            "\n"
          ]
        }
      ]
    },
    {
      "cell_type": "markdown",
      "metadata": {
        "id": "LggLIF2cyiXY"
      },
      "source": [
        "* Preenchendo o DataFrame com uma lista de colunas e uma lista de valores utilizando um FOR"
      ]
    },
    {
      "cell_type": "code",
      "metadata": {
        "colab": {
          "base_uri": "https://localhost:8080/"
        },
        "id": "WPsykhluyO0W",
        "outputId": "0e610147-01f3-4476-f51c-8b76359d0b35"
      },
      "source": [
        "lista_colunas = ['teste1', 'teste2', 'teste3']\n",
        "lista_valores = [1, 2, 3]\n",
        "\n",
        "for i in range(3):\n",
        "    df_novo = df_novo.withColumn(lista_colunas[i], F.lit(lista_valores[i]))\n",
        "\n",
        "df_novo.show()    "
      ],
      "execution_count": 86,
      "outputs": [
        {
          "output_type": "stream",
          "name": "stdout",
          "text": [
            "+------+------+----------+----------+---------------+-----------+----------------+----------+----------------------------+----------+----------+------+------+------+\n",
            "|regiao|estado|      data|casosNovos|casosAcumulados|obitosNovos|obitosAcumulados|novo_valor|soma_obitos_novos_acumulados|   coluna1|   coluna2|teste1|teste2|teste3|\n",
            "+------+------+----------+----------+---------------+-----------+----------------+----------+----------------------------+----------+----------+------+------+------+\n",
            "| Norte|    RO|2020-01-30|         0|              0|          0|               0|        25|                           0|Conteudo 1|Conteudo 2|     1|     2|     3|\n",
            "| Norte|    RO|2020-01-31|         0|              0|          0|               0|        25|                           0|Conteudo 1|Conteudo 2|     1|     2|     3|\n",
            "| Norte|    RO|2020-02-01|         0|              0|          0|               0|        25|                           0|Conteudo 1|Conteudo 2|     1|     2|     3|\n",
            "| Norte|    RO|2020-02-02|         0|              0|          0|               0|        25|                           0|Conteudo 1|Conteudo 2|     1|     2|     3|\n",
            "| Norte|    RO|2020-02-03|         0|              0|          0|               0|        25|                           0|Conteudo 1|Conteudo 2|     1|     2|     3|\n",
            "| Norte|    RO|2020-02-04|         0|              0|          0|               0|        25|                           0|Conteudo 1|Conteudo 2|     1|     2|     3|\n",
            "| Norte|    RO|2020-02-05|         0|              0|          0|               0|        25|                           0|Conteudo 1|Conteudo 2|     1|     2|     3|\n",
            "| Norte|    RO|2020-02-06|         0|              0|          0|               0|        25|                           0|Conteudo 1|Conteudo 2|     1|     2|     3|\n",
            "| Norte|    RO|2020-02-07|         0|              0|          0|               0|        25|                           0|Conteudo 1|Conteudo 2|     1|     2|     3|\n",
            "| Norte|    RO|2020-02-08|         0|              0|          0|               0|        25|                           0|Conteudo 1|Conteudo 2|     1|     2|     3|\n",
            "| Norte|    RO|2020-02-09|         0|              0|          0|               0|        25|                           0|Conteudo 1|Conteudo 2|     1|     2|     3|\n",
            "| Norte|    RO|2020-02-10|         0|              0|          0|               0|        25|                           0|Conteudo 1|Conteudo 2|     1|     2|     3|\n",
            "| Norte|    RO|2020-02-11|         0|              0|          0|               0|        25|                           0|Conteudo 1|Conteudo 2|     1|     2|     3|\n",
            "| Norte|    RO|2020-02-12|         0|              0|          0|               0|        25|                           0|Conteudo 1|Conteudo 2|     1|     2|     3|\n",
            "| Norte|    RO|2020-02-13|         0|              0|          0|               0|        25|                           0|Conteudo 1|Conteudo 2|     1|     2|     3|\n",
            "| Norte|    RO|2020-02-14|         0|              0|          0|               0|        25|                           0|Conteudo 1|Conteudo 2|     1|     2|     3|\n",
            "| Norte|    RO|2020-02-15|         0|              0|          0|               0|        25|                           0|Conteudo 1|Conteudo 2|     1|     2|     3|\n",
            "| Norte|    RO|2020-02-16|         0|              0|          0|               0|        25|                           0|Conteudo 1|Conteudo 2|     1|     2|     3|\n",
            "| Norte|    RO|2020-02-17|         0|              0|          0|               0|        25|                           0|Conteudo 1|Conteudo 2|     1|     2|     3|\n",
            "| Norte|    RO|2020-02-18|         0|              0|          0|               0|        25|                           0|Conteudo 1|Conteudo 2|     1|     2|     3|\n",
            "+------+------+----------+----------+---------------+-----------+----------------+----------+----------------------------+----------+----------+------+------+------+\n",
            "only showing top 20 rows\n",
            "\n"
          ]
        }
      ]
    },
    {
      "cell_type": "markdown",
      "metadata": {
        "id": "cKYH0ZnJKz1B"
      },
      "source": [
        "#Cast\n",
        "\n",
        "* Mudar o tipo de dado de uma coluna"
      ]
    },
    {
      "cell_type": "code",
      "metadata": {
        "colab": {
          "base_uri": "https://localhost:8080/"
        },
        "id": "-YEjz5J2K3jR",
        "outputId": "05a04187-050f-4811-d463-e60940a151c7"
      },
      "source": [
        "df_novo_cast = df_novo.select(F.col(\"novo_valor\").cast(\"string\"))\n",
        "df_novo_cast.show(20)"
      ],
      "execution_count": null,
      "outputs": [
        {
          "output_type": "stream",
          "name": "stdout",
          "text": [
            "+----------+\n",
            "|novo_valor|\n",
            "+----------+\n",
            "|        25|\n",
            "|        25|\n",
            "|        25|\n",
            "|        25|\n",
            "|        25|\n",
            "|        25|\n",
            "|        25|\n",
            "|        25|\n",
            "|        25|\n",
            "|        25|\n",
            "|        25|\n",
            "|        25|\n",
            "|        25|\n",
            "|        25|\n",
            "|        25|\n",
            "|        25|\n",
            "|        25|\n",
            "|        25|\n",
            "|        25|\n",
            "|        25|\n",
            "+----------+\n",
            "only showing top 20 rows\n",
            "\n"
          ]
        }
      ]
    },
    {
      "cell_type": "code",
      "metadata": {
        "colab": {
          "base_uri": "https://localhost:8080/"
        },
        "id": "8YWNAracM9_E",
        "outputId": "c74c8d44-1fdc-45b8-83ba-3366c1283486"
      },
      "source": [
        "df_novo_cast.printSchema()"
      ],
      "execution_count": null,
      "outputs": [
        {
          "output_type": "stream",
          "name": "stdout",
          "text": [
            "root\n",
            " |-- novo_valor: string (nullable = false)\n",
            "\n"
          ]
        }
      ]
    },
    {
      "cell_type": "markdown",
      "metadata": {
        "id": "lcBwRjRAs42p"
      },
      "source": [
        "* Outra forma de Cast\n",
        "\n",
        "dataframe.selectExpr(\"cast(nomecoluna as string)\")"
      ]
    },
    {
      "cell_type": "code",
      "metadata": {
        "colab": {
          "base_uri": "https://localhost:8080/"
        },
        "id": "6W4wjNi8s-CJ",
        "outputId": "12f7cea5-9956-478e-9e6a-3bd503035d3a"
      },
      "source": [
        "df3 = df.selectExpr(\"cast(obitosNovos as string)\")\n",
        "\n",
        "df3.printSchema()"
      ],
      "execution_count": 84,
      "outputs": [
        {
          "output_type": "stream",
          "name": "stdout",
          "text": [
            "root\n",
            " |-- obitosNovos: string (nullable = true)\n",
            "\n"
          ]
        }
      ]
    }
  ]
}