{
  "nbformat": 4,
  "nbformat_minor": 0,
  "metadata": {
    "colab": {
      "name": "Pyspark4.ipynb",
      "provenance": [],
      "collapsed_sections": [],
      "mount_file_id": "1QPFjveKwvyCxM2btDfMp4mKxzyTgdosF",
      "authorship_tag": "ABX9TyOjvEu75e5KOMKJLqmQPNn0",
      "include_colab_link": true
    },
    "kernelspec": {
      "name": "python3",
      "display_name": "Python 3"
    },
    "language_info": {
      "name": "python"
    }
  },
  "cells": [
    {
      "cell_type": "markdown",
      "metadata": {
        "id": "view-in-github",
        "colab_type": "text"
      },
      "source": [
        "<a href=\"https://colab.research.google.com/github/MarianaDuartee/Pyspark/blob/main/Pyspark4.ipynb\" target=\"_parent\"><img src=\"https://colab.research.google.com/assets/colab-badge.svg\" alt=\"Open In Colab\"/></a>"
      ]
    },
    {
      "cell_type": "code",
      "metadata": {
        "colab": {
          "base_uri": "https://localhost:8080/"
        },
        "id": "OCrGRsT2YCO-",
        "outputId": "bff8f2dd-b0bd-4997-bf71-d225596fdd77"
      },
      "source": [
        "! pip install pyspark"
      ],
      "execution_count": 5,
      "outputs": [
        {
          "output_type": "stream",
          "name": "stdout",
          "text": [
            "Requirement already satisfied: pyspark in /usr/local/lib/python3.7/dist-packages (3.2.0)\n",
            "Requirement already satisfied: py4j==0.10.9.2 in /usr/local/lib/python3.7/dist-packages (from pyspark) (0.10.9.2)\n"
          ]
        }
      ]
    },
    {
      "cell_type": "code",
      "metadata": {
        "id": "R0Xm1NlZYKW-"
      },
      "source": [
        "from pyspark.sql import SparkSession\n",
        "import pyspark.sql.functions as F"
      ],
      "execution_count": 6,
      "outputs": []
    },
    {
      "cell_type": "code",
      "metadata": {
        "id": "LktYSMNzYRJf"
      },
      "source": [
        "spark = (SparkSession.builder\n",
        "         .master(\"local\")\n",
        "         .appName(\"aprendendo-dataframes\")\n",
        "         .config(\"spark.ui.port\",\"4050\")\n",
        "         .getOrCreate())"
      ],
      "execution_count": 7,
      "outputs": []
    },
    {
      "cell_type": "markdown",
      "metadata": {
        "id": "3wkdBhbSYqVW"
      },
      "source": [
        "#Header\n",
        "\n",
        "* Caso os arquivos não tenham cabeçalho\n",
        "\n",
        "* Por padrão, caso nao tenha o cabeçalho definido, irá aparecer _c0, _c1 ...\n",
        "\n",
        "\n",
        "\n",
        "---\n",
        "* Maneiras de alterar o padrão:\n",
        "\n",
        "1. .load(\"caminho\").**toDF('coluna1','coluna2',...)** \n",
        "\n",
        "2. lista_colunas = ['coluna1','coluna2',...], e joga no .load().toDF(***lista_colunas**)\n",
        "\n",
        "3. Utilizando Select + F.col() + Alias(AS):\n",
        "> dataframe = dataframe.**select**(**F.col**('coluna').**alias**('novonome')...)"
      ]
    },
    {
      "cell_type": "code",
      "metadata": {
        "id": "Pc0P3C7TYR63"
      },
      "source": [
        "#1º Maneira\n",
        "df = (spark\n",
        "      .read\n",
        "      .format(\"csv\")\n",
        "      .option(\"header\",\"false\")\n",
        "      .option(\"inferschema\",\"false\")\n",
        "      .option(\"delimiter\",\";\")\n",
        "      .load(\"/content/drive/MyDrive/DataSets/arquivo_geral.csv\").toDF(\"Um\",\"Dois\",\"Tres\",\"Quatro\",\"Cinco\",\"Seis\",\"Sete\")\n",
        "      )\n",
        "\n",
        "df.show()"
      ],
      "execution_count": null,
      "outputs": []
    },
    {
      "cell_type": "code",
      "metadata": {
        "id": "NuIGD8TrYjnw"
      },
      "source": [
        "df.printSchema()"
      ],
      "execution_count": null,
      "outputs": []
    },
    {
      "cell_type": "code",
      "metadata": {
        "colab": {
          "base_uri": "https://localhost:8080/"
        },
        "id": "UogwhGsXZwja",
        "outputId": "0016e7d4-be01-43b0-d60e-d37baf124eac"
      },
      "source": [
        "#2º Maneira\n",
        "lista_colunas = [\"Um\",\"Dois\",\"Tres\",\"Quatro\",\"Cinco\",\"Seis\",\"Sete\"]\n",
        "df1 = (spark\n",
        "      .read\n",
        "      .format(\"csv\")\n",
        "      .option(\"header\",\"false\")\n",
        "      .option(\"inferschema\",\"false\")\n",
        "      .option(\"delimiter\",\";\")\n",
        "      .load(\"/content/drive/MyDrive/DataSets/arquivo_geral.csv\").toDF(*lista_colunas)\n",
        "      )\n",
        "\n",
        "df1.show()"
      ],
      "execution_count": 13,
      "outputs": [
        {
          "output_type": "stream",
          "name": "stdout",
          "text": [
            "+------+------+----------+----------+---------------+-----------+----------------+\n",
            "|    Um|  Dois|      Tres|    Quatro|          Cinco|       Seis|            Sete|\n",
            "+------+------+----------+----------+---------------+-----------+----------------+\n",
            "|regiao|estado|      data|casosNovos|casosAcumulados|obitosNovos|obitosAcumulados|\n",
            "| Norte|    RO|2020-01-30|         0|              0|          0|               0|\n",
            "| Norte|    RO|2020-01-31|         0|              0|          0|               0|\n",
            "| Norte|    RO|2020-02-01|         0|              0|          0|               0|\n",
            "| Norte|    RO|2020-02-02|         0|              0|          0|               0|\n",
            "| Norte|    RO|2020-02-03|         0|              0|          0|               0|\n",
            "| Norte|    RO|2020-02-04|         0|              0|          0|               0|\n",
            "| Norte|    RO|2020-02-05|         0|              0|          0|               0|\n",
            "| Norte|    RO|2020-02-06|         0|              0|          0|               0|\n",
            "| Norte|    RO|2020-02-07|         0|              0|          0|               0|\n",
            "| Norte|    RO|2020-02-08|         0|              0|          0|               0|\n",
            "| Norte|    RO|2020-02-09|         0|              0|          0|               0|\n",
            "| Norte|    RO|2020-02-10|         0|              0|          0|               0|\n",
            "| Norte|    RO|2020-02-11|         0|              0|          0|               0|\n",
            "| Norte|    RO|2020-02-12|         0|              0|          0|               0|\n",
            "| Norte|    RO|2020-02-13|         0|              0|          0|               0|\n",
            "| Norte|    RO|2020-02-14|         0|              0|          0|               0|\n",
            "| Norte|    RO|2020-02-15|         0|              0|          0|               0|\n",
            "| Norte|    RO|2020-02-16|         0|              0|          0|               0|\n",
            "| Norte|    RO|2020-02-17|         0|              0|          0|               0|\n",
            "+------+------+----------+----------+---------------+-----------+----------------+\n",
            "only showing top 20 rows\n",
            "\n"
          ]
        }
      ]
    },
    {
      "cell_type": "code",
      "metadata": {
        "colab": {
          "base_uri": "https://localhost:8080/"
        },
        "id": "_bwF05bebRvF",
        "outputId": "3dc02e0c-0566-48a1-8d8a-44ceb273f1dc"
      },
      "source": [
        "#3º Maneira\n",
        "df2 = (spark\n",
        "      .read\n",
        "      .format(\"csv\")\n",
        "      .option(\"header\",\"false\")\n",
        "      .option(\"inferschema\",\"false\")\n",
        "      .option(\"delimiter\",\";\")\n",
        "      .load(\"/content/drive/MyDrive/DataSets/arquivo_geral.csv\")\n",
        "    )\n",
        "\n",
        "df2 = df2.select(F.col(\"_c0\").alias(\"Um\"),\n",
        "                 F.col(\"_c1\").alias(\"Dois\"),\n",
        "                 F.col(\"_c2\").alias(\"Três\"),\n",
        "                 F.col(\"_c3\").alias(\"Quatro\"),\n",
        "                 F.col(\"_c4\").alias(\"Cinco\"),\n",
        "                 F.col(\"_c5\").alias(\"Seis\"),\n",
        "                 F.col(\"_c6\").alias(\"Sete\")\n",
        "    \n",
        ")\n",
        "\n",
        "df2.show()"
      ],
      "execution_count": 15,
      "outputs": [
        {
          "output_type": "stream",
          "name": "stdout",
          "text": [
            "+------+------+----------+----------+---------------+-----------+----------------+\n",
            "|    Um|  Dois|      Três|    Quatro|          Cinco|       Seis|            Sete|\n",
            "+------+------+----------+----------+---------------+-----------+----------------+\n",
            "|regiao|estado|      data|casosNovos|casosAcumulados|obitosNovos|obitosAcumulados|\n",
            "| Norte|    RO|2020-01-30|         0|              0|          0|               0|\n",
            "| Norte|    RO|2020-01-31|         0|              0|          0|               0|\n",
            "| Norte|    RO|2020-02-01|         0|              0|          0|               0|\n",
            "| Norte|    RO|2020-02-02|         0|              0|          0|               0|\n",
            "| Norte|    RO|2020-02-03|         0|              0|          0|               0|\n",
            "| Norte|    RO|2020-02-04|         0|              0|          0|               0|\n",
            "| Norte|    RO|2020-02-05|         0|              0|          0|               0|\n",
            "| Norte|    RO|2020-02-06|         0|              0|          0|               0|\n",
            "| Norte|    RO|2020-02-07|         0|              0|          0|               0|\n",
            "| Norte|    RO|2020-02-08|         0|              0|          0|               0|\n",
            "| Norte|    RO|2020-02-09|         0|              0|          0|               0|\n",
            "| Norte|    RO|2020-02-10|         0|              0|          0|               0|\n",
            "| Norte|    RO|2020-02-11|         0|              0|          0|               0|\n",
            "| Norte|    RO|2020-02-12|         0|              0|          0|               0|\n",
            "| Norte|    RO|2020-02-13|         0|              0|          0|               0|\n",
            "| Norte|    RO|2020-02-14|         0|              0|          0|               0|\n",
            "| Norte|    RO|2020-02-15|         0|              0|          0|               0|\n",
            "| Norte|    RO|2020-02-16|         0|              0|          0|               0|\n",
            "| Norte|    RO|2020-02-17|         0|              0|          0|               0|\n",
            "+------+------+----------+----------+---------------+-----------+----------------+\n",
            "only showing top 20 rows\n",
            "\n"
          ]
        }
      ]
    }
  ]
}