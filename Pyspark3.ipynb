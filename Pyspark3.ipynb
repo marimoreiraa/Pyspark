{
  "nbformat": 4,
  "nbformat_minor": 0,
  "metadata": {
    "colab": {
      "name": "Pyspark3.ipynb",
      "provenance": [],
      "collapsed_sections": [],
      "mount_file_id": "1V5MDnU8ACg8Mgg8iZW1D46dQ-iNWc0BO",
      "authorship_tag": "ABX9TyPdSE8I0LgFXkL4mcb+UUew",
      "include_colab_link": true
    },
    "kernelspec": {
      "name": "python3",
      "display_name": "Python 3"
    },
    "language_info": {
      "name": "python"
    }
  },
  "cells": [
    {
      "cell_type": "markdown",
      "metadata": {
        "id": "view-in-github",
        "colab_type": "text"
      },
      "source": [
        "<a href=\"https://colab.research.google.com/github/MarianaDuartee/Pyspark/blob/main/Pyspark3.ipynb\" target=\"_parent\"><img src=\"https://colab.research.google.com/assets/colab-badge.svg\" alt=\"Open In Colab\"/></a>"
      ]
    },
    {
      "cell_type": "code",
      "metadata": {
        "colab": {
          "base_uri": "https://localhost:8080/"
        },
        "id": "SW2DjTCKyz9q",
        "outputId": "3165fde1-35de-40f7-8bb2-6df6265d834e"
      },
      "source": [
        "! pip install pyspark"
      ],
      "execution_count": 1,
      "outputs": [
        {
          "output_type": "stream",
          "name": "stdout",
          "text": [
            "Collecting pyspark\n",
            "  Downloading pyspark-3.2.0.tar.gz (281.3 MB)\n",
            "\u001b[K     |████████████████████████████████| 281.3 MB 35 kB/s \n",
            "\u001b[?25hCollecting py4j==0.10.9.2\n",
            "  Downloading py4j-0.10.9.2-py2.py3-none-any.whl (198 kB)\n",
            "\u001b[K     |████████████████████████████████| 198 kB 62.0 MB/s \n",
            "\u001b[?25hBuilding wheels for collected packages: pyspark\n",
            "  Building wheel for pyspark (setup.py) ... \u001b[?25l\u001b[?25hdone\n",
            "  Created wheel for pyspark: filename=pyspark-3.2.0-py2.py3-none-any.whl size=281805912 sha256=ce2aaf46bcd614e7033c75c50fba3fce6a2644b8414180eeb930a04fe3853d41\n",
            "  Stored in directory: /root/.cache/pip/wheels/0b/de/d2/9be5d59d7331c6c2a7c1b6d1a4f463ce107332b1ecd4e80718\n",
            "Successfully built pyspark\n",
            "Installing collected packages: py4j, pyspark\n",
            "Successfully installed py4j-0.10.9.2 pyspark-3.2.0\n"
          ]
        }
      ]
    },
    {
      "cell_type": "code",
      "metadata": {
        "id": "y1y_bD10y6Lv"
      },
      "source": [
        "from pyspark.sql import SparkSession\n",
        "import pyspark.sql.functions as F"
      ],
      "execution_count": 2,
      "outputs": []
    },
    {
      "cell_type": "code",
      "metadata": {
        "id": "9wlmmTcAy7-f"
      },
      "source": [
        "spark = (SparkSession.builder\n",
        "         .master(\"local\")\n",
        "         .appName(\"aprendendo-dataframes\")\n",
        "         .config(\"spark.ui.port\",\"4050\")\n",
        "         .getOrCreate())"
      ],
      "execution_count": 3,
      "outputs": []
    },
    {
      "cell_type": "code",
      "metadata": {
        "colab": {
          "base_uri": "https://localhost:8080/"
        },
        "id": "1dvGtwzHy-6f",
        "outputId": "d3a6700d-fdb5-40f3-a1e8-4937bd2e7f93"
      },
      "source": [
        "df = (spark\n",
        "      .read\n",
        "      .format(\"csv\")\n",
        "      .option(\"header\",\"true\")\n",
        "      .option(\"inferschema\",\"true\")\n",
        "      .option(\"delimiter\",\";\")\n",
        "      .load(\"/content/drive/MyDrive/DataSets/arquivo_geral.csv\")\n",
        "      )\n",
        "\n",
        "df.show()"
      ],
      "execution_count": 4,
      "outputs": [
        {
          "output_type": "stream",
          "name": "stdout",
          "text": [
            "+------+------+----------+----------+---------------+-----------+----------------+\n",
            "|regiao|estado|      data|casosNovos|casosAcumulados|obitosNovos|obitosAcumulados|\n",
            "+------+------+----------+----------+---------------+-----------+----------------+\n",
            "| Norte|    RO|2020-01-30|         0|              0|          0|               0|\n",
            "| Norte|    RO|2020-01-31|         0|              0|          0|               0|\n",
            "| Norte|    RO|2020-02-01|         0|              0|          0|               0|\n",
            "| Norte|    RO|2020-02-02|         0|              0|          0|               0|\n",
            "| Norte|    RO|2020-02-03|         0|              0|          0|               0|\n",
            "| Norte|    RO|2020-02-04|         0|              0|          0|               0|\n",
            "| Norte|    RO|2020-02-05|         0|              0|          0|               0|\n",
            "| Norte|    RO|2020-02-06|         0|              0|          0|               0|\n",
            "| Norte|    RO|2020-02-07|         0|              0|          0|               0|\n",
            "| Norte|    RO|2020-02-08|         0|              0|          0|               0|\n",
            "| Norte|    RO|2020-02-09|         0|              0|          0|               0|\n",
            "| Norte|    RO|2020-02-10|         0|              0|          0|               0|\n",
            "| Norte|    RO|2020-02-11|         0|              0|          0|               0|\n",
            "| Norte|    RO|2020-02-12|         0|              0|          0|               0|\n",
            "| Norte|    RO|2020-02-13|         0|              0|          0|               0|\n",
            "| Norte|    RO|2020-02-14|         0|              0|          0|               0|\n",
            "| Norte|    RO|2020-02-15|         0|              0|          0|               0|\n",
            "| Norte|    RO|2020-02-16|         0|              0|          0|               0|\n",
            "| Norte|    RO|2020-02-17|         0|              0|          0|               0|\n",
            "| Norte|    RO|2020-02-18|         0|              0|          0|               0|\n",
            "+------+------+----------+----------+---------------+-----------+----------------+\n",
            "only showing top 20 rows\n",
            "\n"
          ]
        }
      ]
    },
    {
      "cell_type": "code",
      "metadata": {
        "colab": {
          "base_uri": "https://localhost:8080/"
        },
        "id": "ahEEG0ulzAhu",
        "outputId": "1cd79175-37cd-4c74-b77d-5c0b0083ef16"
      },
      "source": [
        "from google.colab import drive\n",
        "drive.mount('/content/drive')"
      ],
      "execution_count": 5,
      "outputs": [
        {
          "output_type": "stream",
          "name": "stdout",
          "text": [
            "Drive already mounted at /content/drive; to attempt to forcibly remount, call drive.mount(\"/content/drive\", force_remount=True).\n"
          ]
        }
      ]
    },
    {
      "cell_type": "markdown",
      "metadata": {
        "id": "CJRrKCSszLmd"
      },
      "source": [
        "\n",
        "---\n",
        "\n",
        "#Outras Funções - Pyspark\n",
        "\n",
        "\n",
        "---\n",
        "\n"
      ]
    },
    {
      "cell_type": "markdown",
      "metadata": {
        "id": "4f3MFCz8zbT5"
      },
      "source": [
        "#WHEN - OTHERWISE\n",
        "\n",
        "* Condições para criar ou não novas colunas\n",
        "\n",
        "* Parecido com IF | ELSE, onde IF = WHEN e ELSE = OTHERWISE\n",
        "\n",
        "* Exemplo: Criar uma nova coluna com as seguintes condições:\n",
        "\n",
        "> Se o numero de casos novos for maior que zero, acrescentar o texto \"Tem casos Novos\"\n",
        "\n",
        "> Se o numero de casos novos não for maior que zero, acrescentar o texto \"Sem casos Novos\"\n",
        "\n",
        "1. O código abaixo cria um novo dataframe (df2) com o dataframe original (df)\n",
        "2. Além das colunas presentes no df original, cria uma nova coluna chamada status (withColumn(\"status\") ...\n",
        "3. Os valores passados para essa nova coluna possuem condições especificas (**F.when**(condição , valor passado caso a condição seja True).**otherwise**(valor passado caso a condição seja False)"
      ]
    },
    {
      "cell_type": "code",
      "metadata": {
        "colab": {
          "base_uri": "https://localhost:8080/"
        },
        "id": "t1wLY_agzW7c",
        "outputId": "d98ffa51-0d14-4244-cfbf-3ff64ac7137d"
      },
      "source": [
        "df2 = (df.withColumn(\"status\",F.when(F.col(\"casosNovos\")>0,\"Tem Casos Novos\")\n",
        "       .otherwise(\"Sem casos novos\")))\n",
        "\n",
        "df2.show(100)"
      ],
      "execution_count": 7,
      "outputs": [
        {
          "output_type": "stream",
          "name": "stdout",
          "text": [
            "+------+------+----------+----------+---------------+-----------+----------------+---------------+\n",
            "|regiao|estado|      data|casosNovos|casosAcumulados|obitosNovos|obitosAcumulados|         status|\n",
            "+------+------+----------+----------+---------------+-----------+----------------+---------------+\n",
            "| Norte|    RO|2020-01-30|         0|              0|          0|               0|Sem casos novos|\n",
            "| Norte|    RO|2020-01-31|         0|              0|          0|               0|Sem casos novos|\n",
            "| Norte|    RO|2020-02-01|         0|              0|          0|               0|Sem casos novos|\n",
            "| Norte|    RO|2020-02-02|         0|              0|          0|               0|Sem casos novos|\n",
            "| Norte|    RO|2020-02-03|         0|              0|          0|               0|Sem casos novos|\n",
            "| Norte|    RO|2020-02-04|         0|              0|          0|               0|Sem casos novos|\n",
            "| Norte|    RO|2020-02-05|         0|              0|          0|               0|Sem casos novos|\n",
            "| Norte|    RO|2020-02-06|         0|              0|          0|               0|Sem casos novos|\n",
            "| Norte|    RO|2020-02-07|         0|              0|          0|               0|Sem casos novos|\n",
            "| Norte|    RO|2020-02-08|         0|              0|          0|               0|Sem casos novos|\n",
            "| Norte|    RO|2020-02-09|         0|              0|          0|               0|Sem casos novos|\n",
            "| Norte|    RO|2020-02-10|         0|              0|          0|               0|Sem casos novos|\n",
            "| Norte|    RO|2020-02-11|         0|              0|          0|               0|Sem casos novos|\n",
            "| Norte|    RO|2020-02-12|         0|              0|          0|               0|Sem casos novos|\n",
            "| Norte|    RO|2020-02-13|         0|              0|          0|               0|Sem casos novos|\n",
            "| Norte|    RO|2020-02-14|         0|              0|          0|               0|Sem casos novos|\n",
            "| Norte|    RO|2020-02-15|         0|              0|          0|               0|Sem casos novos|\n",
            "| Norte|    RO|2020-02-16|         0|              0|          0|               0|Sem casos novos|\n",
            "| Norte|    RO|2020-02-17|         0|              0|          0|               0|Sem casos novos|\n",
            "| Norte|    RO|2020-02-18|         0|              0|          0|               0|Sem casos novos|\n",
            "| Norte|    RO|2020-02-19|         0|              0|          0|               0|Sem casos novos|\n",
            "| Norte|    RO|2020-02-20|         0|              0|          0|               0|Sem casos novos|\n",
            "| Norte|    RO|2020-02-21|         0|              0|          0|               0|Sem casos novos|\n",
            "| Norte|    RO|2020-02-22|         0|              0|          0|               0|Sem casos novos|\n",
            "| Norte|    RO|2020-02-23|         0|              0|          0|               0|Sem casos novos|\n",
            "| Norte|    RO|2020-02-24|         0|              0|          0|               0|Sem casos novos|\n",
            "| Norte|    RO|2020-02-25|         0|              0|          0|               0|Sem casos novos|\n",
            "| Norte|    RO|2020-02-26|         0|              0|          0|               0|Sem casos novos|\n",
            "| Norte|    RO|2020-02-27|         0|              0|          0|               0|Sem casos novos|\n",
            "| Norte|    RO|2020-02-28|         0|              0|          0|               0|Sem casos novos|\n",
            "| Norte|    RO|2020-02-29|         0|              0|          0|               0|Sem casos novos|\n",
            "| Norte|    RO|2020-03-01|         0|              0|          0|               0|Sem casos novos|\n",
            "| Norte|    RO|2020-03-02|         0|              0|          0|               0|Sem casos novos|\n",
            "| Norte|    RO|2020-03-03|         0|              0|          0|               0|Sem casos novos|\n",
            "| Norte|    RO|2020-03-04|         0|              0|          0|               0|Sem casos novos|\n",
            "| Norte|    RO|2020-03-05|         0|              0|          0|               0|Sem casos novos|\n",
            "| Norte|    RO|2020-03-06|         0|              0|          0|               0|Sem casos novos|\n",
            "| Norte|    RO|2020-03-07|         0|              0|          0|               0|Sem casos novos|\n",
            "| Norte|    RO|2020-03-08|         0|              0|          0|               0|Sem casos novos|\n",
            "| Norte|    RO|2020-03-09|         0|              0|          0|               0|Sem casos novos|\n",
            "| Norte|    RO|2020-03-10|         0|              0|          0|               0|Sem casos novos|\n",
            "| Norte|    RO|2020-03-11|         0|              0|          0|               0|Sem casos novos|\n",
            "| Norte|    RO|2020-03-12|         0|              0|          0|               0|Sem casos novos|\n",
            "| Norte|    RO|2020-03-13|         0|              0|          0|               0|Sem casos novos|\n",
            "| Norte|    RO|2020-03-14|         0|              0|          0|               0|Sem casos novos|\n",
            "| Norte|    RO|2020-03-15|         0|              0|          0|               0|Sem casos novos|\n",
            "| Norte|    RO|2020-03-16|         0|              0|          0|               0|Sem casos novos|\n",
            "| Norte|    RO|2020-03-17|         0|              0|          0|               0|Sem casos novos|\n",
            "| Norte|    RO|2020-03-18|         0|              0|          0|               0|Sem casos novos|\n",
            "| Norte|    RO|2020-03-19|         0|              0|          0|               0|Sem casos novos|\n",
            "| Norte|    RO|2020-03-20|         1|              1|          0|               0|Tem Casos Novos|\n",
            "| Norte|    RO|2020-03-21|         0|              1|          0|               0|Sem casos novos|\n",
            "| Norte|    RO|2020-03-22|         2|              3|          0|               0|Tem Casos Novos|\n",
            "| Norte|    RO|2020-03-23|         0|              3|          0|               0|Sem casos novos|\n",
            "| Norte|    RO|2020-03-24|         0|              3|          0|               0|Sem casos novos|\n",
            "| Norte|    RO|2020-03-25|         2|              5|          0|               0|Tem Casos Novos|\n",
            "| Norte|    RO|2020-03-26|         0|              5|          0|               0|Sem casos novos|\n",
            "| Norte|    RO|2020-03-27|         1|              6|          0|               0|Tem Casos Novos|\n",
            "| Norte|    RO|2020-03-28|         0|              6|          0|               0|Sem casos novos|\n",
            "| Norte|    RO|2020-03-29|         0|              6|          0|               0|Sem casos novos|\n",
            "| Norte|    RO|2020-03-30|         0|              6|          0|               0|Sem casos novos|\n",
            "| Norte|    RO|2020-03-31|         2|              8|          1|               1|Tem Casos Novos|\n",
            "| Norte|    RO|2020-04-01|         1|              9|          0|               1|Tem Casos Novos|\n",
            "| Norte|    RO|2020-04-02|         1|             10|          0|               1|Tem Casos Novos|\n",
            "| Norte|    RO|2020-04-03|         0|             10|          0|               1|Sem casos novos|\n",
            "| Norte|    RO|2020-04-04|         1|             11|          0|               1|Tem Casos Novos|\n",
            "| Norte|    RO|2020-04-05|         1|             12|          0|               1|Tem Casos Novos|\n",
            "| Norte|    RO|2020-04-06|         2|             14|          0|               1|Tem Casos Novos|\n",
            "| Norte|    RO|2020-04-07|         4|             18|          0|               1|Tem Casos Novos|\n",
            "| Norte|    RO|2020-04-08|         0|             18|          0|               1|Sem casos novos|\n",
            "| Norte|    RO|2020-04-09|        10|             28|          1|               2|Tem Casos Novos|\n",
            "| Norte|    RO|2020-04-10|         4|             32|          0|               2|Tem Casos Novos|\n",
            "| Norte|    RO|2020-04-11|         1|             33|          0|               2|Tem Casos Novos|\n",
            "| Norte|    RO|2020-04-12|         2|             35|          0|               2|Tem Casos Novos|\n",
            "| Norte|    RO|2020-04-13|         7|             42|          0|               2|Tem Casos Novos|\n",
            "| Norte|    RO|2020-04-14|        22|             64|          0|               2|Tem Casos Novos|\n",
            "| Norte|    RO|2020-04-15|         5|             69|          0|               2|Tem Casos Novos|\n",
            "| Norte|    RO|2020-04-16|         7|             76|          1|               3|Tem Casos Novos|\n",
            "| Norte|    RO|2020-04-17|        16|             92|          0|               3|Tem Casos Novos|\n",
            "| Norte|    RO|2020-04-18|        18|            110|          0|               3|Tem Casos Novos|\n",
            "| Norte|    RO|2020-04-19|        18|            128|          1|               4|Tem Casos Novos|\n",
            "| Norte|    RO|2020-04-20|        32|            160|          0|               4|Tem Casos Novos|\n",
            "| Norte|    RO|2020-04-21|        39|            199|          0|               4|Tem Casos Novos|\n",
            "| Norte|    RO|2020-04-22|        24|            223|          1|               5|Tem Casos Novos|\n",
            "| Norte|    RO|2020-04-23|        27|            250|          0|               5|Tem Casos Novos|\n",
            "| Norte|    RO|2020-04-24|        40|            290|          0|               5|Tem Casos Novos|\n",
            "| Norte|    RO|2020-04-25|        38|            328|          2|               7|Tem Casos Novos|\n",
            "| Norte|    AC|2020-01-30|         0|              0|          0|               0|Sem casos novos|\n",
            "| Norte|    AC|2020-01-31|         0|              0|          0|               0|Sem casos novos|\n",
            "| Norte|    AC|2020-02-01|         0|              0|          0|               0|Sem casos novos|\n",
            "| Norte|    AC|2020-02-02|         0|              0|          0|               0|Sem casos novos|\n",
            "| Norte|    AC|2020-02-03|         0|              0|          0|               0|Sem casos novos|\n",
            "| Norte|    AC|2020-02-04|         0|              0|          0|               0|Sem casos novos|\n",
            "| Norte|    AC|2020-02-05|         0|              0|          0|               0|Sem casos novos|\n",
            "| Norte|    AC|2020-02-06|         0|              0|          0|               0|Sem casos novos|\n",
            "| Norte|    AC|2020-02-07|         0|              0|          0|               0|Sem casos novos|\n",
            "| Norte|    AC|2020-02-08|         0|              0|          0|               0|Sem casos novos|\n",
            "| Norte|    AC|2020-02-09|         0|              0|          0|               0|Sem casos novos|\n",
            "| Norte|    AC|2020-02-10|         0|              0|          0|               0|Sem casos novos|\n",
            "| Norte|    AC|2020-02-11|         0|              0|          0|               0|Sem casos novos|\n",
            "+------+------+----------+----------+---------------+-----------+----------------+---------------+\n",
            "only showing top 100 rows\n",
            "\n"
          ]
        }
      ]
    },
    {
      "cell_type": "markdown",
      "metadata": {
        "id": "SC1k59Ac2QH2"
      },
      "source": [
        "* Exemplo: Concatenando a quantidade de casos novos com o status"
      ]
    },
    {
      "cell_type": "code",
      "metadata": {
        "colab": {
          "base_uri": "https://localhost:8080/"
        },
        "id": "5aeKBgID1700",
        "outputId": "4acde84f-624e-46ff-a1c9-6eac0642eb7c"
      },
      "source": [
        "df3 = (df.withColumn(\"status\", \n",
        "                     F.when(F.col('casosNovos') > 0, F.concat(df.casosNovos,F.lit(\" casos novos\")))\n",
        "                     .otherwise(\"Não tem casos novos.\")\n",
        "                     ))\n",
        "\n",
        "df3.select(F.col('status'),F.col('casosNovos'),F.col('data')).filter(F.col('status') != 'Não tem casos novos.').show()"
      ],
      "execution_count": 10,
      "outputs": [
        {
          "output_type": "stream",
          "name": "stdout",
          "text": [
            "+--------------+----------+----------+\n",
            "|        status|casosNovos|      data|\n",
            "+--------------+----------+----------+\n",
            "| 1 casos novos|         1|2020-03-20|\n",
            "| 2 casos novos|         2|2020-03-22|\n",
            "| 2 casos novos|         2|2020-03-25|\n",
            "| 1 casos novos|         1|2020-03-27|\n",
            "| 2 casos novos|         2|2020-03-31|\n",
            "| 1 casos novos|         1|2020-04-01|\n",
            "| 1 casos novos|         1|2020-04-02|\n",
            "| 1 casos novos|         1|2020-04-04|\n",
            "| 1 casos novos|         1|2020-04-05|\n",
            "| 2 casos novos|         2|2020-04-06|\n",
            "| 4 casos novos|         4|2020-04-07|\n",
            "|10 casos novos|        10|2020-04-09|\n",
            "| 4 casos novos|         4|2020-04-10|\n",
            "| 1 casos novos|         1|2020-04-11|\n",
            "| 2 casos novos|         2|2020-04-12|\n",
            "| 7 casos novos|         7|2020-04-13|\n",
            "|22 casos novos|        22|2020-04-14|\n",
            "| 5 casos novos|         5|2020-04-15|\n",
            "| 7 casos novos|         7|2020-04-16|\n",
            "|16 casos novos|        16|2020-04-17|\n",
            "+--------------+----------+----------+\n",
            "only showing top 20 rows\n",
            "\n"
          ]
        }
      ]
    },
    {
      "cell_type": "markdown",
      "metadata": {
        "id": "BDSZd0zc5PMN"
      },
      "source": [
        "#Substring \n",
        "* Exige 3 parametros\n",
        "\n",
        "* Primeiro : A propria string que esta percorrendo\n",
        "\n",
        "* Segundo : Posição inicial que quer pegar da string\n",
        "\n",
        "* Terceiro: Tamanho da substring que quer pegar\n",
        "\n",
        "* F.substring('valor da string', 'Posição inicial', 'Tamanho total')"
      ]
    },
    {
      "cell_type": "markdown",
      "metadata": {
        "id": "hLWp0IA-4pT9"
      },
      "source": [
        "* Exemplo: Criar colunas com Dia/Mês/Ano para ficar mais organizado no Dataframe\n",
        "\n",
        "> Isso é feito com a utilização da withColumn que cria uma nova coluna junto com a substring \n",
        "\n",
        "> A substring mostra uma parte da string de acordo com os parâmetros escolhidos "
      ]
    },
    {
      "cell_type": "code",
      "metadata": {
        "colab": {
          "base_uri": "https://localhost:8080/"
        },
        "id": "bTevLZFN5IY8",
        "outputId": "6caff728-6f99-496a-9b10-a1ab74e23bd1"
      },
      "source": [
        "df3 = (df.withColumn(\"Dia\", F.substring(df.data,9,2))\n",
        "         .withColumn(\"Mês\",F.substring(df.data,6,2))\n",
        "         .withColumn(\"Ano\",F.substring(df.data,1,4)))\n",
        "\n",
        "df3.select(F.col('data'),F.col('Dia'),F.col(\"Mês\"),F.col(\"Ano\")).show()"
      ],
      "execution_count": 17,
      "outputs": [
        {
          "output_type": "stream",
          "name": "stdout",
          "text": [
            "+----------+---+---+----+\n",
            "|      data|Dia|Mês| Ano|\n",
            "+----------+---+---+----+\n",
            "|2020-01-30| 30| 01|2020|\n",
            "|2020-01-31| 31| 01|2020|\n",
            "|2020-02-01| 01| 02|2020|\n",
            "|2020-02-02| 02| 02|2020|\n",
            "|2020-02-03| 03| 02|2020|\n",
            "|2020-02-04| 04| 02|2020|\n",
            "|2020-02-05| 05| 02|2020|\n",
            "|2020-02-06| 06| 02|2020|\n",
            "|2020-02-07| 07| 02|2020|\n",
            "|2020-02-08| 08| 02|2020|\n",
            "|2020-02-09| 09| 02|2020|\n",
            "|2020-02-10| 10| 02|2020|\n",
            "|2020-02-11| 11| 02|2020|\n",
            "|2020-02-12| 12| 02|2020|\n",
            "|2020-02-13| 13| 02|2020|\n",
            "|2020-02-14| 14| 02|2020|\n",
            "|2020-02-15| 15| 02|2020|\n",
            "|2020-02-16| 16| 02|2020|\n",
            "|2020-02-17| 17| 02|2020|\n",
            "|2020-02-18| 18| 02|2020|\n",
            "+----------+---+---+----+\n",
            "only showing top 20 rows\n",
            "\n"
          ]
        }
      ]
    }
  ]
}