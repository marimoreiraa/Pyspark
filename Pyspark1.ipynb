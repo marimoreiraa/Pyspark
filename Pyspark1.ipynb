{
  "nbformat": 4,
  "nbformat_minor": 0,
  "metadata": {
    "colab": {
      "name": "Pyspark1.ipynb",
      "provenance": [],
      "collapsed_sections": [],
      "mount_file_id": "1ESTmmanf6ePCsD469jYfXpZpjLFKTfD9",
      "authorship_tag": "ABX9TyNWIw3/dZq88h0sO6rhTK82",
      "include_colab_link": true
    },
    "kernelspec": {
      "name": "python3",
      "display_name": "Python 3"
    },
    "language_info": {
      "name": "python"
    }
  },
  "cells": [
    {
      "cell_type": "markdown",
      "metadata": {
        "id": "view-in-github",
        "colab_type": "text"
      },
      "source": [
        "<a href=\"https://colab.research.google.com/github/MarianaDuartee/Pyspark/blob/main/Pyspark1.ipynb\" target=\"_parent\"><img src=\"https://colab.research.google.com/assets/colab-badge.svg\" alt=\"Open In Colab\"/></a>"
      ]
    },
    {
      "cell_type": "markdown",
      "metadata": {
        "id": "kE2w_aaVHo1W"
      },
      "source": [
        "#Pyspark\n",
        "\n",
        "> * Biblioteca para Python que \"conecta\" ao Apache Spark por ser uma API Python\n",
        "> * Utilizado para grandes quantidades de dados - BigData\n",
        "> * Ao contrario do Pandas, trabalha com Streamings, ou seja, processamento de dados em tempo real\n",
        "> * Também, ao contrario do Pandas, é escalonavel, ou seja, distribui os dados para o processamento rápido."
      ]
    },
    {
      "cell_type": "markdown",
      "metadata": {
        "id": "tlHxmTyJHle0"
      },
      "source": [
        "#Instalando a Bibliota -Pyspark"
      ]
    },
    {
      "cell_type": "code",
      "metadata": {
        "colab": {
          "base_uri": "https://localhost:8080/"
        },
        "id": "RyCISBeo5Lvu",
        "outputId": "d83f4501-ef72-4323-881c-e61c88a5ce55"
      },
      "source": [
        "!pip install pyspark"
      ],
      "execution_count": null,
      "outputs": [
        {
          "output_type": "stream",
          "name": "stdout",
          "text": [
            "Requirement already satisfied: pyspark in /usr/local/lib/python3.7/dist-packages (3.2.0)\n",
            "Requirement already satisfied: py4j==0.10.9.2 in /usr/local/lib/python3.7/dist-packages (from pyspark) (0.10.9.2)\n"
          ]
        }
      ]
    },
    {
      "cell_type": "markdown",
      "metadata": {
        "id": "TPtQp3ln6RAB"
      },
      "source": [
        "#Para executar os codigos\n",
        "\n",
        "* SparkSession - String que conecta o codigo da aplicação ao Spark\n",
        "* Importar funções do Pyspark : pyspark.sql.functions"
      ]
    },
    {
      "cell_type": "code",
      "metadata": {
        "id": "KpuT9k8y6FwW"
      },
      "source": [
        "from pyspark.sql import SparkSession\n",
        "import pyspark.sql.functions as F "
      ],
      "execution_count": null,
      "outputs": []
    },
    {
      "cell_type": "markdown",
      "metadata": {
        "id": "JQ46zXqq6cNe"
      },
      "source": [
        "#Configurar o SparkSession\n",
        "\n",
        "variavel = SparkSession.builder - (*construção*)\n",
        "\n",
        ".master(\"local\") - (*definindo quem é a maquina master - computador local*)\n",
        "\n",
        ".appName('nomedaaplicação') - (*Qual nome do aplicativo que vou criar em pyspark*)\n",
        "\n",
        ".config(\"spark.ui.port\",\"4050\") - (*Configuração para acessar o apache spark pela porta 4050*)\n",
        "\n",
        ".getOrCreate() - (*Iniciar a sessão*)\n",
        "\n"
      ]
    },
    {
      "cell_type": "code",
      "metadata": {
        "id": "5znMfM286gs2"
      },
      "source": [
        "spark = (SparkSession.builder\n",
        "         .master(\"local\")\n",
        "         .appName(\"aprendendo-dataframes\")\n",
        "         .config(\"spark.ui.port\",\"4050\")\n",
        "         .getOrCreate())"
      ],
      "execution_count": null,
      "outputs": []
    },
    {
      "cell_type": "markdown",
      "metadata": {
        "id": "pI9anTef9335"
      },
      "source": [
        "#Verificar se esta instalado"
      ]
    },
    {
      "cell_type": "code",
      "metadata": {
        "colab": {
          "base_uri": "https://localhost:8080/",
          "height": 219
        },
        "id": "RqJKfFwx7wGp",
        "outputId": "86a2ae13-4d92-4378-aa57-56f0660c2e3f"
      },
      "source": [
        "spark"
      ],
      "execution_count": null,
      "outputs": [
        {
          "output_type": "execute_result",
          "data": {
            "text/html": [
              "\n",
              "            <div>\n",
              "                <p><b>SparkSession - in-memory</b></p>\n",
              "                \n",
              "        <div>\n",
              "            <p><b>SparkContext</b></p>\n",
              "\n",
              "            <p><a href=\"http://a347458ef649:4050\">Spark UI</a></p>\n",
              "\n",
              "            <dl>\n",
              "              <dt>Version</dt>\n",
              "                <dd><code>v3.2.0</code></dd>\n",
              "              <dt>Master</dt>\n",
              "                <dd><code>local</code></dd>\n",
              "              <dt>AppName</dt>\n",
              "                <dd><code>aprendendo-dataframes</code></dd>\n",
              "            </dl>\n",
              "        </div>\n",
              "        \n",
              "            </div>\n",
              "        "
            ],
            "text/plain": [
              "<pyspark.sql.session.SparkSession at 0x7f1e9d3d9690>"
            ]
          },
          "metadata": {},
          "execution_count": 9
        }
      ]
    },
    {
      "cell_type": "markdown",
      "metadata": {
        "id": "dc1Ec9Ef-FcP"
      },
      "source": [
        "#Criando Dataframes\n",
        "\n",
        "> dados = [(dados1),(dados2),(dados3),(dados4)]\n",
        "\n",
        "* Primeira linha do Dataframe = Colunas\n",
        "\n",
        "> esquema = [\"NomeColuna1\",\"NomeColuna2\",...]\n",
        "\n",
        "* Criar o dataframe\n",
        "\n",
        "> df = spark.createDataFrame(data=dados,schema = esquema)\n",
        "\n",
        "* Mostrar o dataframe \n",
        "\n",
        "> df.show()"
      ]
    },
    {
      "cell_type": "code",
      "metadata": {
        "colab": {
          "base_uri": "https://localhost:8080/"
        },
        "id": "20to7oPI-e2t",
        "outputId": "26112c07-963d-4edf-ee10-4a1864b43be4"
      },
      "source": [
        "dados = [\n",
        "         (\"Mariana Duarte\",\"Araújos\",\"MG\",3500.00),\n",
        "         (\"Bismark Willian\",\"São Paulo\",\"SP\",4700.00),\n",
        "         (\"Lucas Brandão\",\"São Paulo\",\"SP\",2100.00),\n",
        "         (\"Ana Andrade\",\"Centralina\",\"MG\",3200.00)\n",
        "]\n",
        "\n",
        "esquema = [\"Nome\",\"Cidade\",\"Estado\",\"Salario\"]\n",
        "\n",
        "df = spark.createDataFrame(data = dados,schema=esquema)\n",
        "\n",
        "df.show()"
      ],
      "execution_count": null,
      "outputs": [
        {
          "output_type": "stream",
          "name": "stdout",
          "text": [
            "+---------------+----------+------+-------+\n",
            "|           Nome|    Cidade|Estado|Salario|\n",
            "+---------------+----------+------+-------+\n",
            "| Mariana Duarte|   Araújos|    MG| 3500.0|\n",
            "|Bismark Willian| São Paulo|    SP| 4700.0|\n",
            "|  Lucas Brandão| São Paulo|    SP| 2100.0|\n",
            "|    Ana Andrade|Centralina|    MG| 3200.0|\n",
            "+---------------+----------+------+-------+\n",
            "\n"
          ]
        }
      ]
    },
    {
      "cell_type": "markdown",
      "metadata": {
        "id": "kb6VK1-lBdPu"
      },
      "source": [
        "* Mostrar os tipos de dados presentes no Schema"
      ]
    },
    {
      "cell_type": "code",
      "metadata": {
        "colab": {
          "base_uri": "https://localhost:8080/"
        },
        "id": "RIskE636BhVv",
        "outputId": "4dd2ced7-581c-44a6-8bea-b76e2dd2932d"
      },
      "source": [
        "df.printSchema()"
      ],
      "execution_count": null,
      "outputs": [
        {
          "output_type": "stream",
          "name": "stdout",
          "text": [
            "root\n",
            " |-- Nome: string (nullable = true)\n",
            " |-- Cidade: string (nullable = true)\n",
            " |-- Estado: string (nullable = true)\n",
            " |-- Salario: double (nullable = true)\n",
            "\n"
          ]
        }
      ]
    },
    {
      "cell_type": "markdown",
      "metadata": {
        "id": "4pNel59EDzht"
      },
      "source": [
        "#Importar dados csv\n",
        "\n",
        "dataframe = (spark\n",
        "  > .read (*Lê o arquivo e importa no dataframe*)\n",
        "\n",
        "  > .format(\"formatoArquivo\") (*Mostra qual tipo de arquivo estamos lendo*)\n",
        "\n",
        "  > .option(\"header\",\"true\") (*Mostrar o cabeçalho*)\n",
        "\n",
        "  > .option(\"inferschema\",\"true\") (*Retorna os tipos de dados certos das colunas*)\n",
        "\n",
        "  > .option(\"delimiter\",\";\") (*Mostrar que o arquivo é delimitado por ponto e virgula*)\n",
        "  \n",
        "  > .load(\"caminhoDoArquivo\")"
      ]
    },
    {
      "cell_type": "code",
      "metadata": {
        "colab": {
          "base_uri": "https://localhost:8080/"
        },
        "id": "bQD7Vjw4D3fv",
        "outputId": "354a3af5-b676-4e4f-daf3-96a066b68fcf"
      },
      "source": [
        "df2 = (spark\n",
        "       .read \n",
        "       .format(\"csv\") \n",
        "       .option(\"header\",\"true\") \n",
        "       .option(\"inferschema\",\"true\") \n",
        "       .option(\"delimiter\",\";\") \n",
        "       .load(\"/content/drive/MyDrive/DataSets/arquivo_geral.csv\")\n",
        ")\n",
        "       \n",
        "df2.show(10)"
      ],
      "execution_count": null,
      "outputs": [
        {
          "output_type": "stream",
          "name": "stdout",
          "text": [
            "+------+------+----------+----------+---------------+-----------+----------------+\n",
            "|regiao|estado|      data|casosNovos|casosAcumulados|obitosNovos|obitosAcumulados|\n",
            "+------+------+----------+----------+---------------+-----------+----------------+\n",
            "| Norte|    RO|2020-01-30|         0|              0|          0|               0|\n",
            "| Norte|    RO|2020-01-31|         0|              0|          0|               0|\n",
            "| Norte|    RO|2020-02-01|         0|              0|          0|               0|\n",
            "| Norte|    RO|2020-02-02|         0|              0|          0|               0|\n",
            "| Norte|    RO|2020-02-03|         0|              0|          0|               0|\n",
            "| Norte|    RO|2020-02-04|         0|              0|          0|               0|\n",
            "| Norte|    RO|2020-02-05|         0|              0|          0|               0|\n",
            "| Norte|    RO|2020-02-06|         0|              0|          0|               0|\n",
            "| Norte|    RO|2020-02-07|         0|              0|          0|               0|\n",
            "| Norte|    RO|2020-02-08|         0|              0|          0|               0|\n",
            "+------+------+----------+----------+---------------+-----------+----------------+\n",
            "only showing top 10 rows\n",
            "\n"
          ]
        }
      ]
    },
    {
      "cell_type": "code",
      "metadata": {
        "colab": {
          "base_uri": "https://localhost:8080/"
        },
        "id": "xnST4h2LGRgi",
        "outputId": "cc61ea7c-e207-4aaa-b2c8-2fa981707819"
      },
      "source": [
        "df2.printSchema()"
      ],
      "execution_count": null,
      "outputs": [
        {
          "output_type": "stream",
          "name": "stdout",
          "text": [
            "root\n",
            " |-- regiao: string (nullable = true)\n",
            " |-- estado: string (nullable = true)\n",
            " |-- data: string (nullable = true)\n",
            " |-- casosNovos: integer (nullable = true)\n",
            " |-- casosAcumulados: integer (nullable = true)\n",
            " |-- obitosNovos: integer (nullable = true)\n",
            " |-- obitosAcumulados: integer (nullable = true)\n",
            "\n"
          ]
        }
      ]
    },
    {
      "cell_type": "markdown",
      "metadata": {
        "id": "z_pVMrLcKDKf"
      },
      "source": [
        "#Funções de DataFrame"
      ]
    },
    {
      "cell_type": "markdown",
      "metadata": {
        "id": "SP1l61exLDaK"
      },
      "source": [
        "* SELECT: Seleciona as colunas que vão aparecer \n",
        "\n",
        "> 1º forma de utilização : \n",
        ">> `dataframe.select('colunas').show()`\n",
        "\n",
        "> 2º forma de utilização: (Com funções)\n",
        ">> `dataframe.select(F.col('nomecoluna')).show()` - *Retorna as colunas*\n",
        ">>\n",
        "\n",
        "* FILTER: \n",
        "> `dataframe.select(F.col('nomecoluna')).filter(F.col('coluna') == \"Filtro\").show()`\n",
        "\n",
        ">  Formas de selecionar a coluna no filter: F.col() | dataframe.nomecoluna | \"nomeColuna = 'Filtro'\"\n",
        "\n",
        "> Outra maneira de usar os Filtros é armazenando o filtro em uma variavel :\n",
        ">> filtro = F.col('coluna') == 'Filtro'\n",
        "\n"
      ]
    },
    {
      "cell_type": "code",
      "metadata": {
        "id": "7N6JFzepKDkz"
      },
      "source": [
        "df2.select(\"regiao\",\"estado\",\"data\",\"casosNovos\").show(50)"
      ],
      "execution_count": null,
      "outputs": []
    },
    {
      "cell_type": "code",
      "metadata": {
        "id": "cbLxFRuUMYsB"
      },
      "source": [
        "df2.select(F.col('regiao'),F.col('estado'),F.col('data'),F.col('casosNovos')).show(20)"
      ],
      "execution_count": null,
      "outputs": []
    },
    {
      "cell_type": "code",
      "metadata": {
        "id": "vute2_S4NNLO"
      },
      "source": [
        "#Exibir a região,estado e casosNovos apenas da região Sudeste\n",
        "\n",
        "#1º Maneira\n",
        "df2.select(F.col('regiao'),F.col('estado'),F.col('casosNovos')).filter(F.col('regiao') == 'Sudeste').show(20)\n"
      ],
      "execution_count": null,
      "outputs": []
    },
    {
      "cell_type": "code",
      "metadata": {
        "id": "1pcl-1xSPgeR"
      },
      "source": [
        "#Exibir a regiao, estado, casosNovos com a data 2020-02-07\n",
        "df2.select(F.col('regiao'),F.col('estado'),F.col('casosNovos')).filter(F.col('data') == '2020-02-07').show(50)"
      ],
      "execution_count": null,
      "outputs": []
    },
    {
      "cell_type": "code",
      "metadata": {
        "id": "OJtPITRWVr3J"
      },
      "source": [
        "#2º Maneira\n",
        "df2.select(F.col(\"regiao\"), F.col(\"estado\"), F.col(\"casosNovos\")).filter(df2.regiao == \"Nordeste\").show(50)"
      ],
      "execution_count": null,
      "outputs": []
    },
    {
      "cell_type": "code",
      "metadata": {
        "id": "3molH7uMWd_R"
      },
      "source": [
        "#3º Maneira\n",
        "df2.select(F.col(\"regiao\"), F.col(\"estado\"), F.col(\"casosNovos\")).filter(\"regiao = 'Sudeste'\").show(20)"
      ],
      "execution_count": null,
      "outputs": []
    },
    {
      "cell_type": "code",
      "metadata": {
        "id": "tUSP33BfWwkY"
      },
      "source": [
        "#4º Maneira\n",
        "#Criando uma variavel\n",
        "filtro = F.col('regiao') == 'Sul'\n",
        "df2.select(F.col(\"regiao\"), F.col(\"estado\"), F.col(\"casosNovos\")).filter(filtro).show(50)"
      ],
      "execution_count": null,
      "outputs": []
    },
    {
      "cell_type": "markdown",
      "metadata": {
        "id": "O2rNk4QqXTnw"
      },
      "source": [
        "#Lista dinamica com varias colunas\n",
        "\n",
        "* Utilizar dentro do comando select :\n",
        "> dataframe.select(lista).filter(filtro).show()"
      ]
    },
    {
      "cell_type": "code",
      "metadata": {
        "colab": {
          "base_uri": "https://localhost:8080/"
        },
        "id": "jDdS3TXHXZjm",
        "outputId": "889d4bd7-3985-4a12-de98-8f3b2de39600"
      },
      "source": [
        "lista_colunas = ['regiao','estado','data','casosAcumulados','obitosAcumulados']\n",
        "filtro = F.col('data') >= \"2020-03-20\"\n",
        "df2.select(lista_colunas).filter(filtro).show(20)"
      ],
      "execution_count": null,
      "outputs": [
        {
          "output_type": "stream",
          "name": "stdout",
          "text": [
            "+------+------+----------+---------------+----------------+\n",
            "|regiao|estado|      data|casosAcumulados|obitosAcumulados|\n",
            "+------+------+----------+---------------+----------------+\n",
            "| Norte|    RO|2020-03-20|              1|               0|\n",
            "| Norte|    RO|2020-03-21|              1|               0|\n",
            "| Norte|    RO|2020-03-22|              3|               0|\n",
            "| Norte|    RO|2020-03-23|              3|               0|\n",
            "| Norte|    RO|2020-03-24|              3|               0|\n",
            "| Norte|    RO|2020-03-25|              5|               0|\n",
            "| Norte|    RO|2020-03-26|              5|               0|\n",
            "| Norte|    RO|2020-03-27|              6|               0|\n",
            "| Norte|    RO|2020-03-28|              6|               0|\n",
            "| Norte|    RO|2020-03-29|              6|               0|\n",
            "| Norte|    RO|2020-03-30|              6|               0|\n",
            "| Norte|    RO|2020-03-31|              8|               1|\n",
            "| Norte|    RO|2020-04-01|              9|               1|\n",
            "| Norte|    RO|2020-04-02|             10|               1|\n",
            "| Norte|    RO|2020-04-03|             10|               1|\n",
            "| Norte|    RO|2020-04-04|             11|               1|\n",
            "| Norte|    RO|2020-04-05|             12|               1|\n",
            "| Norte|    RO|2020-04-06|             14|               1|\n",
            "| Norte|    RO|2020-04-07|             18|               1|\n",
            "| Norte|    RO|2020-04-08|             18|               1|\n",
            "+------+------+----------+---------------+----------------+\n",
            "only showing top 20 rows\n",
            "\n"
          ]
        }
      ]
    },
    {
      "cell_type": "markdown",
      "metadata": {
        "id": "prhOABYiYErb"
      },
      "source": [
        "#Aplicar mais de um filtro dentro do DataFrame"
      ]
    },
    {
      "cell_type": "markdown",
      "metadata": {
        "id": "oGZgzVt9YRsG"
      },
      "source": [
        "* Filtragem pela regiao Sudeste e estado de Minas Gerais\n",
        "\n",
        "> .filter().filter() ...\n",
        "\n",
        "> Para mostrar todas as colunas não precisa do Select : dataframe.filter() ..."
      ]
    },
    {
      "cell_type": "code",
      "metadata": {
        "colab": {
          "base_uri": "https://localhost:8080/"
        },
        "id": "74CdtQZ8YIR4",
        "outputId": "240749c6-217e-42f8-f54b-a760a6ad1c69"
      },
      "source": [
        "filtroRegiao = F.col('regiao') == 'Sudeste'\n",
        "filtroEstado = F.col('estado') == 'MG'\n",
        "filtroData = F.col('data') >= '2020-03-20'\n",
        "df2.select(F.col('estado'),F.col('data'),F.col('casosAcumulados'),F.col('obitosAcumulados')).filter(filtroRegiao).filter(filtroEstado).filter(filtroData).show(20)"
      ],
      "execution_count": null,
      "outputs": [
        {
          "output_type": "stream",
          "name": "stdout",
          "text": [
            "+------+----------+---------------+----------------+\n",
            "|estado|      data|casosAcumulados|obitosAcumulados|\n",
            "+------+----------+---------------+----------------+\n",
            "|    MG|2020-03-20|             35|               0|\n",
            "|    MG|2020-03-21|             38|               0|\n",
            "|    MG|2020-03-22|             83|               0|\n",
            "|    MG|2020-03-23|            128|               0|\n",
            "|    MG|2020-03-24|            130|               0|\n",
            "|    MG|2020-03-25|            133|               0|\n",
            "|    MG|2020-03-26|            153|               0|\n",
            "|    MG|2020-03-27|            189|               0|\n",
            "|    MG|2020-03-28|            205|               0|\n",
            "|    MG|2020-03-29|            231|               0|\n",
            "|    MG|2020-03-30|            261|               1|\n",
            "|    MG|2020-03-31|            275|               2|\n",
            "|    MG|2020-04-01|            314|               3|\n",
            "|    MG|2020-04-02|            370|               4|\n",
            "|    MG|2020-04-03|            397|               6|\n",
            "|    MG|2020-04-04|            430|               6|\n",
            "|    MG|2020-04-05|            498|               6|\n",
            "|    MG|2020-04-06|            525|               9|\n",
            "|    MG|2020-04-07|            559|              11|\n",
            "|    MG|2020-04-08|            614|              14|\n",
            "+------+----------+---------------+----------------+\n",
            "only showing top 20 rows\n",
            "\n"
          ]
        }
      ]
    },
    {
      "cell_type": "markdown",
      "metadata": {
        "id": "UWoPRfwTLxrM"
      },
      "source": [
        "* Retornar quantas linhas o dataframe possui .count()"
      ]
    },
    {
      "cell_type": "code",
      "metadata": {
        "colab": {
          "base_uri": "https://localhost:8080/"
        },
        "id": "PiZ62uDqQTr-",
        "outputId": "92876eef-6680-40ef-a301-47791cf4b460"
      },
      "source": [
        "df2.count()"
      ],
      "execution_count": null,
      "outputs": [
        {
          "output_type": "execute_result",
          "data": {
            "text/plain": [
              "2349"
            ]
          },
          "metadata": {},
          "execution_count": 37
        }
      ]
    },
    {
      "cell_type": "code",
      "metadata": {
        "id": "dbnifq4oQh1B"
      },
      "source": [
        ""
      ],
      "execution_count": null,
      "outputs": []
    }
  ]
}