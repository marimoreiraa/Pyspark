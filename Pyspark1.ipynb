{
  "nbformat": 4,
  "nbformat_minor": 0,
  "metadata": {
    "colab": {
      "name": "Pyspark1.ipynb",
      "provenance": [],
      "collapsed_sections": [],
      "mount_file_id": "1ESTmmanf6ePCsD469jYfXpZpjLFKTfD9",
      "authorship_tag": "ABX9TyOQUMT2JmyzeA4iF5gJz1Nw",
      "include_colab_link": true
    },
    "kernelspec": {
      "name": "python3",
      "display_name": "Python 3"
    },
    "language_info": {
      "name": "python"
    }
  },
  "cells": [
    {
      "cell_type": "markdown",
      "metadata": {
        "id": "view-in-github",
        "colab_type": "text"
      },
      "source": [
        "<a href=\"https://colab.research.google.com/github/MarianaDuartee/Pyspark/blob/main/Pyspark1.ipynb\" target=\"_parent\"><img src=\"https://colab.research.google.com/assets/colab-badge.svg\" alt=\"Open In Colab\"/></a>"
      ]
    },
    {
      "cell_type": "markdown",
      "metadata": {
        "id": "J6s5ARPDrFLc"
      },
      "source": [
        "* DataSet - Conjunto de Dados\n",
        "* DataFrame (Tabelas) - estrutura de duas dimensões, no qual cada coluna pode possuir um tipo primário diferente. São utilizados para armazenar bases de dados."
      ]
    },
    {
      "cell_type": "markdown",
      "metadata": {
        "id": "nKz0AC-7skN9"
      },
      "source": [
        "---\n",
        "\n",
        "* Com o Pandas e o Pyspark, nós analisamos um DataSet e realizamos algumas normalizações e consultas.\n",
        "* O Pyspark realiza processamentos mais rápidos quando se trata de datasets grandes\n"
      ]
    },
    {
      "cell_type": "markdown",
      "metadata": {
        "id": "kE2w_aaVHo1W"
      },
      "source": [
        "#Pyspark\n",
        "\n",
        "> * Biblioteca para Python que \"conecta\" ao Apache Spark por ser uma API Python\n",
        "> * Utilizado para grandes quantidades de dados - BigData\n",
        "> * Ao contrario do Pandas, trabalha com Streamings, ou seja, processamento de dados em tempo real\n",
        "> * Também, ao contrario do Pandas, é escalonavel, ou seja, distribui os dados para o processamento rápido."
      ]
    },
    {
      "cell_type": "markdown",
      "metadata": {
        "id": "tlHxmTyJHle0"
      },
      "source": [
        "#Instalando a Bibliota -Pyspark"
      ]
    },
    {
      "cell_type": "code",
      "metadata": {
        "colab": {
          "base_uri": "https://localhost:8080/"
        },
        "id": "RyCISBeo5Lvu",
        "outputId": "df673d70-4bbc-46f5-f38d-5516ae496ddb"
      },
      "source": [
        "!pip install pyspark"
      ],
      "execution_count": 1,
      "outputs": [
        {
          "output_type": "stream",
          "name": "stdout",
          "text": [
            "Collecting pyspark\n",
            "  Downloading pyspark-3.2.0.tar.gz (281.3 MB)\n",
            "\u001b[K     |████████████████████████████████| 281.3 MB 37 kB/s \n",
            "\u001b[?25hCollecting py4j==0.10.9.2\n",
            "  Downloading py4j-0.10.9.2-py2.py3-none-any.whl (198 kB)\n",
            "\u001b[K     |████████████████████████████████| 198 kB 58.6 MB/s \n",
            "\u001b[?25hBuilding wheels for collected packages: pyspark\n",
            "  Building wheel for pyspark (setup.py) ... \u001b[?25l\u001b[?25hdone\n",
            "  Created wheel for pyspark: filename=pyspark-3.2.0-py2.py3-none-any.whl size=281805912 sha256=9672b6b02f55b143c2c507ad24e89488e8aa976fa12432bb241a3f30e0b1a3af\n",
            "  Stored in directory: /root/.cache/pip/wheels/0b/de/d2/9be5d59d7331c6c2a7c1b6d1a4f463ce107332b1ecd4e80718\n",
            "Successfully built pyspark\n",
            "Installing collected packages: py4j, pyspark\n",
            "Successfully installed py4j-0.10.9.2 pyspark-3.2.0\n"
          ]
        }
      ]
    },
    {
      "cell_type": "markdown",
      "metadata": {
        "id": "TPtQp3ln6RAB"
      },
      "source": [
        "#Para executar os codigos\n",
        "\n",
        "* SparkSession - String que conecta o codigo da aplicação ao Spark\n",
        "* Importar funções do Pyspark : pyspark.sql.functions"
      ]
    },
    {
      "cell_type": "code",
      "metadata": {
        "id": "KpuT9k8y6FwW"
      },
      "source": [
        "from pyspark.sql import SparkSession\n",
        "import pyspark.sql.functions as F "
      ],
      "execution_count": 2,
      "outputs": []
    },
    {
      "cell_type": "markdown",
      "metadata": {
        "id": "JQ46zXqq6cNe"
      },
      "source": [
        "#Configurar o SparkSession\n",
        "\n",
        "variavel = SparkSession.builder - (*construção*)\n",
        "\n",
        ".master(\"local\") - (*definindo quem é a maquina master - computador local*)\n",
        "\n",
        ".appName('nomedaaplicação') - (*Qual nome do aplicativo que vou criar em pyspark*)\n",
        "\n",
        ".config(\"spark.ui.port\",\"4050\") - (*Configuração para acessar o apache spark pela porta 4050*)\n",
        "\n",
        ".getOrCreate() - (*Iniciar a sessão com o Spark*)\n",
        "\n"
      ]
    },
    {
      "cell_type": "code",
      "metadata": {
        "id": "5znMfM286gs2"
      },
      "source": [
        "spark = (SparkSession.builder\n",
        "         .master(\"local\")\n",
        "         .appName(\"aprendendo-dataframes\")\n",
        "         .config(\"spark.ui.port\",\"4050\")\n",
        "         .getOrCreate())"
      ],
      "execution_count": 3,
      "outputs": []
    },
    {
      "cell_type": "markdown",
      "metadata": {
        "id": "pI9anTef9335"
      },
      "source": [
        "#Verificar se esta instalado"
      ]
    },
    {
      "cell_type": "code",
      "metadata": {
        "colab": {
          "base_uri": "https://localhost:8080/",
          "height": 219
        },
        "id": "RqJKfFwx7wGp",
        "outputId": "97051522-c972-4cf6-88b3-631ffaf5f910"
      },
      "source": [
        "spark"
      ],
      "execution_count": 4,
      "outputs": [
        {
          "output_type": "execute_result",
          "data": {
            "text/html": [
              "\n",
              "            <div>\n",
              "                <p><b>SparkSession - in-memory</b></p>\n",
              "                \n",
              "        <div>\n",
              "            <p><b>SparkContext</b></p>\n",
              "\n",
              "            <p><a href=\"http://1ffa028b1c59:4050\">Spark UI</a></p>\n",
              "\n",
              "            <dl>\n",
              "              <dt>Version</dt>\n",
              "                <dd><code>v3.2.0</code></dd>\n",
              "              <dt>Master</dt>\n",
              "                <dd><code>local</code></dd>\n",
              "              <dt>AppName</dt>\n",
              "                <dd><code>aprendendo-dataframes</code></dd>\n",
              "            </dl>\n",
              "        </div>\n",
              "        \n",
              "            </div>\n",
              "        "
            ],
            "text/plain": [
              "<pyspark.sql.session.SparkSession at 0x7ff39b106790>"
            ]
          },
          "metadata": {},
          "execution_count": 4
        }
      ]
    },
    {
      "cell_type": "markdown",
      "metadata": {
        "id": "dc1Ec9Ef-FcP"
      },
      "source": [
        "#Criando Dataframes\n",
        "\n",
        "> dados = [(dados1),(dados2),(dados3),(dados4)]\n",
        "\n",
        "* Primeira linha do Dataframe = Colunas = Schema\n",
        "\n",
        "> esquema = [\"NomeColuna1\",\"NomeColuna2\",...]\n",
        "\n",
        "* Criar o dataframe\n",
        "\n",
        "> df = spark.createDataFrame(data=dados,schema = esquema)\n",
        "\n",
        "* Mostrar o dataframe \n",
        "\n",
        "> df.show()\n",
        "\n",
        "> Sem passar quantas linhas dentro do (), ele mostra automaticamente as 20 primeiras"
      ]
    },
    {
      "cell_type": "code",
      "metadata": {
        "colab": {
          "base_uri": "https://localhost:8080/"
        },
        "id": "20to7oPI-e2t",
        "outputId": "57b853e7-5231-4d01-9128-9567733c4343"
      },
      "source": [
        "dados = [\n",
        "         (\"Mariana Duarte\",\"Araújos\",\"MG\",3500.00),\n",
        "         (\"Bismark Willian\",\"São Paulo\",\"SP\",4700.00),\n",
        "         (\"Lucas Brandão\",\"São Paulo\",\"SP\",2100.00),\n",
        "         (\"Ana Andrade\",\"Centralina\",\"MG\",3200.00)\n",
        "]\n",
        "\n",
        "esquema = [\"Nome\",\"Cidade\",\"Estado\",\"Salario\"]\n",
        "\n",
        "df = spark.createDataFrame(data = dados,schema=esquema)\n",
        "\n",
        "df.show()"
      ],
      "execution_count": 5,
      "outputs": [
        {
          "output_type": "stream",
          "name": "stdout",
          "text": [
            "+---------------+----------+------+-------+\n",
            "|           Nome|    Cidade|Estado|Salario|\n",
            "+---------------+----------+------+-------+\n",
            "| Mariana Duarte|   Araújos|    MG| 3500.0|\n",
            "|Bismark Willian| São Paulo|    SP| 4700.0|\n",
            "|  Lucas Brandão| São Paulo|    SP| 2100.0|\n",
            "|    Ana Andrade|Centralina|    MG| 3200.0|\n",
            "+---------------+----------+------+-------+\n",
            "\n"
          ]
        }
      ]
    },
    {
      "cell_type": "markdown",
      "metadata": {
        "id": "kb6VK1-lBdPu"
      },
      "source": [
        "* Mostrar os tipos de dados presentes no Schema"
      ]
    },
    {
      "cell_type": "code",
      "metadata": {
        "colab": {
          "base_uri": "https://localhost:8080/"
        },
        "id": "RIskE636BhVv",
        "outputId": "47edee8c-f33e-4991-e631-ee6f89f59bdf"
      },
      "source": [
        "df.printSchema()"
      ],
      "execution_count": 6,
      "outputs": [
        {
          "output_type": "stream",
          "name": "stdout",
          "text": [
            "root\n",
            " |-- Nome: string (nullable = true)\n",
            " |-- Cidade: string (nullable = true)\n",
            " |-- Estado: string (nullable = true)\n",
            " |-- Salario: double (nullable = true)\n",
            "\n"
          ]
        }
      ]
    },
    {
      "cell_type": "markdown",
      "metadata": {
        "id": "4pNel59EDzht"
      },
      "source": [
        "#Importar dados csv\n",
        "\n",
        "dataframe = (spark\n",
        "  > .read (*Lê o arquivo e importa no dataframe*)\n",
        "\n",
        "  > .format(\"formatoArquivo\") (*Mostra qual tipo de arquivo estamos lendo*)\n",
        "\n",
        "  > .option(\"header\",\"true\") (*Mostrar o cabeçalho*)\n",
        "\n",
        "  > .option(\"inferschema\",\"true\") (*Retorna os tipos de dados certos das colunas*)\n",
        "\n",
        "  > .option(\"delimiter\",\";\") (*Mostrar que o arquivo é delimitado por ponto e virgula*)\n",
        "  \n",
        "  > .load(\"caminhoDoArquivo\")"
      ]
    },
    {
      "cell_type": "code",
      "metadata": {
        "colab": {
          "base_uri": "https://localhost:8080/"
        },
        "id": "bQD7Vjw4D3fv",
        "outputId": "322ca2cb-2cf0-4239-da2c-73ca329b1360"
      },
      "source": [
        "df2 = (spark\n",
        "       .read \n",
        "       .format(\"csv\") \n",
        "       .option(\"header\",\"true\") \n",
        "       .option(\"inferschema\",\"true\") \n",
        "       .option(\"delimiter\",\";\") \n",
        "       .load(\"/content/drive/MyDrive/DataSets/arquivo_geral.csv\")\n",
        ")\n",
        "       \n",
        "df2.show(10)"
      ],
      "execution_count": 7,
      "outputs": [
        {
          "output_type": "stream",
          "name": "stdout",
          "text": [
            "+------+------+----------+----------+---------------+-----------+----------------+\n",
            "|regiao|estado|      data|casosNovos|casosAcumulados|obitosNovos|obitosAcumulados|\n",
            "+------+------+----------+----------+---------------+-----------+----------------+\n",
            "| Norte|    RO|2020-01-30|         0|              0|          0|               0|\n",
            "| Norte|    RO|2020-01-31|         0|              0|          0|               0|\n",
            "| Norte|    RO|2020-02-01|         0|              0|          0|               0|\n",
            "| Norte|    RO|2020-02-02|         0|              0|          0|               0|\n",
            "| Norte|    RO|2020-02-03|         0|              0|          0|               0|\n",
            "| Norte|    RO|2020-02-04|         0|              0|          0|               0|\n",
            "| Norte|    RO|2020-02-05|         0|              0|          0|               0|\n",
            "| Norte|    RO|2020-02-06|         0|              0|          0|               0|\n",
            "| Norte|    RO|2020-02-07|         0|              0|          0|               0|\n",
            "| Norte|    RO|2020-02-08|         0|              0|          0|               0|\n",
            "+------+------+----------+----------+---------------+-----------+----------------+\n",
            "only showing top 10 rows\n",
            "\n"
          ]
        }
      ]
    },
    {
      "cell_type": "code",
      "metadata": {
        "colab": {
          "base_uri": "https://localhost:8080/"
        },
        "id": "xnST4h2LGRgi",
        "outputId": "c39a485c-467f-4d79-ff7a-e460129eab79"
      },
      "source": [
        "df2.printSchema()"
      ],
      "execution_count": 8,
      "outputs": [
        {
          "output_type": "stream",
          "name": "stdout",
          "text": [
            "root\n",
            " |-- regiao: string (nullable = true)\n",
            " |-- estado: string (nullable = true)\n",
            " |-- data: string (nullable = true)\n",
            " |-- casosNovos: integer (nullable = true)\n",
            " |-- casosAcumulados: integer (nullable = true)\n",
            " |-- obitosNovos: integer (nullable = true)\n",
            " |-- obitosAcumulados: integer (nullable = true)\n",
            "\n"
          ]
        }
      ]
    },
    {
      "cell_type": "markdown",
      "metadata": {
        "id": "z_pVMrLcKDKf"
      },
      "source": [
        "#Funções de DataFrame"
      ]
    },
    {
      "cell_type": "markdown",
      "metadata": {
        "id": "SP1l61exLDaK"
      },
      "source": [
        "* SELECT: Seleciona as colunas que vão aparecer \n",
        "\n",
        "> 1º forma de utilização : \n",
        ">> `dataframe.select('colunas').show()`\n",
        "\n",
        "> 2º forma de utilização: (Com funções)\n",
        ">> `dataframe.select(F.col('nomecoluna')).show()` - *Retorna as colunas*\n",
        ">>\n",
        "\n",
        "---\n",
        "\n",
        "* FILTER: \n",
        "> `dataframe.select(F.col('nomecoluna')).filter(F.col('coluna') == \"Filtro\").show()`\n",
        "\n",
        ">  Formas de selecionar a coluna no filter: F.col() | dataframe.nomecoluna | \"nomeColuna = 'Filtro'\"\n",
        "\n",
        "> Outra maneira de usar os Filtros é armazenando o filtro em uma variavel :\n",
        ">> filtro = F.col('coluna') == 'Filtro'\n",
        "\n"
      ]
    },
    {
      "cell_type": "code",
      "metadata": {
        "id": "7N6JFzepKDkz",
        "colab": {
          "base_uri": "https://localhost:8080/"
        },
        "outputId": "bb2bf1aa-36d1-402a-924b-4b2b554f7935"
      },
      "source": [
        "df2.select(\"regiao\",\"estado\",\"data\",\"casosNovos\").show(50)"
      ],
      "execution_count": 9,
      "outputs": [
        {
          "output_type": "stream",
          "name": "stdout",
          "text": [
            "+------+------+----------+----------+\n",
            "|regiao|estado|      data|casosNovos|\n",
            "+------+------+----------+----------+\n",
            "| Norte|    RO|2020-01-30|         0|\n",
            "| Norte|    RO|2020-01-31|         0|\n",
            "| Norte|    RO|2020-02-01|         0|\n",
            "| Norte|    RO|2020-02-02|         0|\n",
            "| Norte|    RO|2020-02-03|         0|\n",
            "| Norte|    RO|2020-02-04|         0|\n",
            "| Norte|    RO|2020-02-05|         0|\n",
            "| Norte|    RO|2020-02-06|         0|\n",
            "| Norte|    RO|2020-02-07|         0|\n",
            "| Norte|    RO|2020-02-08|         0|\n",
            "| Norte|    RO|2020-02-09|         0|\n",
            "| Norte|    RO|2020-02-10|         0|\n",
            "| Norte|    RO|2020-02-11|         0|\n",
            "| Norte|    RO|2020-02-12|         0|\n",
            "| Norte|    RO|2020-02-13|         0|\n",
            "| Norte|    RO|2020-02-14|         0|\n",
            "| Norte|    RO|2020-02-15|         0|\n",
            "| Norte|    RO|2020-02-16|         0|\n",
            "| Norte|    RO|2020-02-17|         0|\n",
            "| Norte|    RO|2020-02-18|         0|\n",
            "| Norte|    RO|2020-02-19|         0|\n",
            "| Norte|    RO|2020-02-20|         0|\n",
            "| Norte|    RO|2020-02-21|         0|\n",
            "| Norte|    RO|2020-02-22|         0|\n",
            "| Norte|    RO|2020-02-23|         0|\n",
            "| Norte|    RO|2020-02-24|         0|\n",
            "| Norte|    RO|2020-02-25|         0|\n",
            "| Norte|    RO|2020-02-26|         0|\n",
            "| Norte|    RO|2020-02-27|         0|\n",
            "| Norte|    RO|2020-02-28|         0|\n",
            "| Norte|    RO|2020-02-29|         0|\n",
            "| Norte|    RO|2020-03-01|         0|\n",
            "| Norte|    RO|2020-03-02|         0|\n",
            "| Norte|    RO|2020-03-03|         0|\n",
            "| Norte|    RO|2020-03-04|         0|\n",
            "| Norte|    RO|2020-03-05|         0|\n",
            "| Norte|    RO|2020-03-06|         0|\n",
            "| Norte|    RO|2020-03-07|         0|\n",
            "| Norte|    RO|2020-03-08|         0|\n",
            "| Norte|    RO|2020-03-09|         0|\n",
            "| Norte|    RO|2020-03-10|         0|\n",
            "| Norte|    RO|2020-03-11|         0|\n",
            "| Norte|    RO|2020-03-12|         0|\n",
            "| Norte|    RO|2020-03-13|         0|\n",
            "| Norte|    RO|2020-03-14|         0|\n",
            "| Norte|    RO|2020-03-15|         0|\n",
            "| Norte|    RO|2020-03-16|         0|\n",
            "| Norte|    RO|2020-03-17|         0|\n",
            "| Norte|    RO|2020-03-18|         0|\n",
            "| Norte|    RO|2020-03-19|         0|\n",
            "+------+------+----------+----------+\n",
            "only showing top 50 rows\n",
            "\n"
          ]
        }
      ]
    },
    {
      "cell_type": "code",
      "metadata": {
        "id": "cbLxFRuUMYsB",
        "colab": {
          "base_uri": "https://localhost:8080/"
        },
        "outputId": "93c1fecc-b10d-42cb-b56d-f7afb4277c0b"
      },
      "source": [
        "df2.select(F.col('regiao'),F.col('estado'),F.col('data'),F.col('casosNovos')).show(20)"
      ],
      "execution_count": 10,
      "outputs": [
        {
          "output_type": "stream",
          "name": "stdout",
          "text": [
            "+------+------+----------+----------+\n",
            "|regiao|estado|      data|casosNovos|\n",
            "+------+------+----------+----------+\n",
            "| Norte|    RO|2020-01-30|         0|\n",
            "| Norte|    RO|2020-01-31|         0|\n",
            "| Norte|    RO|2020-02-01|         0|\n",
            "| Norte|    RO|2020-02-02|         0|\n",
            "| Norte|    RO|2020-02-03|         0|\n",
            "| Norte|    RO|2020-02-04|         0|\n",
            "| Norte|    RO|2020-02-05|         0|\n",
            "| Norte|    RO|2020-02-06|         0|\n",
            "| Norte|    RO|2020-02-07|         0|\n",
            "| Norte|    RO|2020-02-08|         0|\n",
            "| Norte|    RO|2020-02-09|         0|\n",
            "| Norte|    RO|2020-02-10|         0|\n",
            "| Norte|    RO|2020-02-11|         0|\n",
            "| Norte|    RO|2020-02-12|         0|\n",
            "| Norte|    RO|2020-02-13|         0|\n",
            "| Norte|    RO|2020-02-14|         0|\n",
            "| Norte|    RO|2020-02-15|         0|\n",
            "| Norte|    RO|2020-02-16|         0|\n",
            "| Norte|    RO|2020-02-17|         0|\n",
            "| Norte|    RO|2020-02-18|         0|\n",
            "+------+------+----------+----------+\n",
            "only showing top 20 rows\n",
            "\n"
          ]
        }
      ]
    },
    {
      "cell_type": "code",
      "metadata": {
        "id": "vute2_S4NNLO",
        "colab": {
          "base_uri": "https://localhost:8080/"
        },
        "outputId": "b993b4de-5e62-4eea-a37c-5ce3a86aee17"
      },
      "source": [
        "#Exibir a região,estado e casosNovos apenas da região Sudeste\n",
        "\n",
        "#1º Maneira\n",
        "df2.select(F.col('regiao'),F.col('estado'),F.col('casosNovos')).filter(F.col('regiao') == 'Sudeste').show(20)\n"
      ],
      "execution_count": 11,
      "outputs": [
        {
          "output_type": "stream",
          "name": "stdout",
          "text": [
            "+-------+------+----------+\n",
            "| regiao|estado|casosNovos|\n",
            "+-------+------+----------+\n",
            "|Sudeste|    MG|         0|\n",
            "|Sudeste|    MG|         0|\n",
            "|Sudeste|    MG|         0|\n",
            "|Sudeste|    MG|         0|\n",
            "|Sudeste|    MG|         0|\n",
            "|Sudeste|    MG|         0|\n",
            "|Sudeste|    MG|         0|\n",
            "|Sudeste|    MG|         0|\n",
            "|Sudeste|    MG|         0|\n",
            "|Sudeste|    MG|         0|\n",
            "|Sudeste|    MG|         0|\n",
            "|Sudeste|    MG|         0|\n",
            "|Sudeste|    MG|         0|\n",
            "|Sudeste|    MG|         0|\n",
            "|Sudeste|    MG|         0|\n",
            "|Sudeste|    MG|         0|\n",
            "|Sudeste|    MG|         0|\n",
            "|Sudeste|    MG|         0|\n",
            "|Sudeste|    MG|         0|\n",
            "|Sudeste|    MG|         0|\n",
            "+-------+------+----------+\n",
            "only showing top 20 rows\n",
            "\n"
          ]
        }
      ]
    },
    {
      "cell_type": "code",
      "metadata": {
        "id": "1pcl-1xSPgeR",
        "colab": {
          "base_uri": "https://localhost:8080/"
        },
        "outputId": "41207199-9ecc-4df4-e36a-f932c354718d"
      },
      "source": [
        "#Exibir a regiao, estado, casosNovos com a data 2020-02-07\n",
        "df2.select(F.col('regiao'),F.col('estado'),F.col('casosNovos')).filter(F.col('data') == '2020-02-07').show(50)"
      ],
      "execution_count": 12,
      "outputs": [
        {
          "output_type": "stream",
          "name": "stdout",
          "text": [
            "+------------+------+----------+\n",
            "|      regiao|estado|casosNovos|\n",
            "+------------+------+----------+\n",
            "|       Norte|    RO|         0|\n",
            "|       Norte|    AC|         0|\n",
            "|       Norte|    AM|         0|\n",
            "|       Norte|    RR|         0|\n",
            "|       Norte|    PA|         0|\n",
            "|       Norte|    AP|         0|\n",
            "|       Norte|    TO|         0|\n",
            "|    Nordeste|    MA|         0|\n",
            "|    Nordeste|    PI|         0|\n",
            "|    Nordeste|    CE|         0|\n",
            "|    Nordeste|    RN|         0|\n",
            "|    Nordeste|    PB|         0|\n",
            "|    Nordeste|    PE|         0|\n",
            "|    Nordeste|    AL|         0|\n",
            "|    Nordeste|    SE|         0|\n",
            "|    Nordeste|    BA|         0|\n",
            "|     Sudeste|    MG|         0|\n",
            "|     Sudeste|    ES|         0|\n",
            "|     Sudeste|    RJ|         0|\n",
            "|     Sudeste|    SP|         0|\n",
            "|         Sul|    PR|         0|\n",
            "|         Sul|    SC|         0|\n",
            "|         Sul|    RS|         0|\n",
            "|Centro-Oeste|    MS|         0|\n",
            "|Centro-Oeste|    MT|         0|\n",
            "|Centro-Oeste|    GO|         0|\n",
            "|Centro-Oeste|    DF|         0|\n",
            "+------------+------+----------+\n",
            "\n"
          ]
        }
      ]
    },
    {
      "cell_type": "code",
      "metadata": {
        "id": "OJtPITRWVr3J",
        "colab": {
          "base_uri": "https://localhost:8080/"
        },
        "outputId": "3ced0f49-739a-43c4-8683-322b84836835"
      },
      "source": [
        "#2º Maneira\n",
        "df2.select(F.col(\"regiao\"), F.col(\"estado\"), F.col(\"casosNovos\")).filter(df2.regiao == \"Nordeste\").show(50)"
      ],
      "execution_count": 13,
      "outputs": [
        {
          "output_type": "stream",
          "name": "stdout",
          "text": [
            "+--------+------+----------+\n",
            "|  regiao|estado|casosNovos|\n",
            "+--------+------+----------+\n",
            "|Nordeste|    MA|         0|\n",
            "|Nordeste|    MA|         0|\n",
            "|Nordeste|    MA|         0|\n",
            "|Nordeste|    MA|         0|\n",
            "|Nordeste|    MA|         0|\n",
            "|Nordeste|    MA|         0|\n",
            "|Nordeste|    MA|         0|\n",
            "|Nordeste|    MA|         0|\n",
            "|Nordeste|    MA|         0|\n",
            "|Nordeste|    MA|         0|\n",
            "|Nordeste|    MA|         0|\n",
            "|Nordeste|    MA|         0|\n",
            "|Nordeste|    MA|         0|\n",
            "|Nordeste|    MA|         0|\n",
            "|Nordeste|    MA|         0|\n",
            "|Nordeste|    MA|         0|\n",
            "|Nordeste|    MA|         0|\n",
            "|Nordeste|    MA|         0|\n",
            "|Nordeste|    MA|         0|\n",
            "|Nordeste|    MA|         0|\n",
            "|Nordeste|    MA|         0|\n",
            "|Nordeste|    MA|         0|\n",
            "|Nordeste|    MA|         0|\n",
            "|Nordeste|    MA|         0|\n",
            "|Nordeste|    MA|         0|\n",
            "|Nordeste|    MA|         0|\n",
            "|Nordeste|    MA|         0|\n",
            "|Nordeste|    MA|         0|\n",
            "|Nordeste|    MA|         0|\n",
            "|Nordeste|    MA|         0|\n",
            "|Nordeste|    MA|         0|\n",
            "|Nordeste|    MA|         0|\n",
            "|Nordeste|    MA|         0|\n",
            "|Nordeste|    MA|         0|\n",
            "|Nordeste|    MA|         0|\n",
            "|Nordeste|    MA|         0|\n",
            "|Nordeste|    MA|         0|\n",
            "|Nordeste|    MA|         0|\n",
            "|Nordeste|    MA|         0|\n",
            "|Nordeste|    MA|         0|\n",
            "|Nordeste|    MA|         0|\n",
            "|Nordeste|    MA|         0|\n",
            "|Nordeste|    MA|         0|\n",
            "|Nordeste|    MA|         0|\n",
            "|Nordeste|    MA|         0|\n",
            "|Nordeste|    MA|         0|\n",
            "|Nordeste|    MA|         0|\n",
            "|Nordeste|    MA|         0|\n",
            "|Nordeste|    MA|         0|\n",
            "|Nordeste|    MA|         0|\n",
            "+--------+------+----------+\n",
            "only showing top 50 rows\n",
            "\n"
          ]
        }
      ]
    },
    {
      "cell_type": "code",
      "metadata": {
        "id": "3molH7uMWd_R",
        "colab": {
          "base_uri": "https://localhost:8080/"
        },
        "outputId": "d77f0470-1429-49db-f7aa-0302131e6b75"
      },
      "source": [
        "#3º Maneira\n",
        "df2.select(F.col(\"regiao\"), F.col(\"estado\"), F.col(\"casosNovos\")).filter(\"regiao = 'Sudeste'\").show(20)"
      ],
      "execution_count": 14,
      "outputs": [
        {
          "output_type": "stream",
          "name": "stdout",
          "text": [
            "+-------+------+----------+\n",
            "| regiao|estado|casosNovos|\n",
            "+-------+------+----------+\n",
            "|Sudeste|    MG|         0|\n",
            "|Sudeste|    MG|         0|\n",
            "|Sudeste|    MG|         0|\n",
            "|Sudeste|    MG|         0|\n",
            "|Sudeste|    MG|         0|\n",
            "|Sudeste|    MG|         0|\n",
            "|Sudeste|    MG|         0|\n",
            "|Sudeste|    MG|         0|\n",
            "|Sudeste|    MG|         0|\n",
            "|Sudeste|    MG|         0|\n",
            "|Sudeste|    MG|         0|\n",
            "|Sudeste|    MG|         0|\n",
            "|Sudeste|    MG|         0|\n",
            "|Sudeste|    MG|         0|\n",
            "|Sudeste|    MG|         0|\n",
            "|Sudeste|    MG|         0|\n",
            "|Sudeste|    MG|         0|\n",
            "|Sudeste|    MG|         0|\n",
            "|Sudeste|    MG|         0|\n",
            "|Sudeste|    MG|         0|\n",
            "+-------+------+----------+\n",
            "only showing top 20 rows\n",
            "\n"
          ]
        }
      ]
    },
    {
      "cell_type": "code",
      "metadata": {
        "id": "tUSP33BfWwkY",
        "colab": {
          "base_uri": "https://localhost:8080/"
        },
        "outputId": "23144393-e455-46fb-dfe4-9841055b406d"
      },
      "source": [
        "#4º Maneira\n",
        "#Criando uma variavel\n",
        "filtro = F.col('regiao') == 'Sul'\n",
        "df2.select(F.col(\"regiao\"), F.col(\"estado\"), F.col(\"casosNovos\")).filter(filtro).show(50)"
      ],
      "execution_count": 15,
      "outputs": [
        {
          "output_type": "stream",
          "name": "stdout",
          "text": [
            "+------+------+----------+\n",
            "|regiao|estado|casosNovos|\n",
            "+------+------+----------+\n",
            "|   Sul|    PR|         0|\n",
            "|   Sul|    PR|         0|\n",
            "|   Sul|    PR|         0|\n",
            "|   Sul|    PR|         0|\n",
            "|   Sul|    PR|         0|\n",
            "|   Sul|    PR|         0|\n",
            "|   Sul|    PR|         0|\n",
            "|   Sul|    PR|         0|\n",
            "|   Sul|    PR|         0|\n",
            "|   Sul|    PR|         0|\n",
            "|   Sul|    PR|         0|\n",
            "|   Sul|    PR|         0|\n",
            "|   Sul|    PR|         0|\n",
            "|   Sul|    PR|         0|\n",
            "|   Sul|    PR|         0|\n",
            "|   Sul|    PR|         0|\n",
            "|   Sul|    PR|         0|\n",
            "|   Sul|    PR|         0|\n",
            "|   Sul|    PR|         0|\n",
            "|   Sul|    PR|         0|\n",
            "|   Sul|    PR|         0|\n",
            "|   Sul|    PR|         0|\n",
            "|   Sul|    PR|         0|\n",
            "|   Sul|    PR|         0|\n",
            "|   Sul|    PR|         0|\n",
            "|   Sul|    PR|         0|\n",
            "|   Sul|    PR|         0|\n",
            "|   Sul|    PR|         0|\n",
            "|   Sul|    PR|         0|\n",
            "|   Sul|    PR|         0|\n",
            "|   Sul|    PR|         0|\n",
            "|   Sul|    PR|         0|\n",
            "|   Sul|    PR|         0|\n",
            "|   Sul|    PR|         0|\n",
            "|   Sul|    PR|         0|\n",
            "|   Sul|    PR|         0|\n",
            "|   Sul|    PR|         0|\n",
            "|   Sul|    PR|         0|\n",
            "|   Sul|    PR|         0|\n",
            "|   Sul|    PR|         0|\n",
            "|   Sul|    PR|         0|\n",
            "|   Sul|    PR|         0|\n",
            "|   Sul|    PR|         6|\n",
            "|   Sul|    PR|         0|\n",
            "|   Sul|    PR|         0|\n",
            "|   Sul|    PR|         0|\n",
            "|   Sul|    PR|         0|\n",
            "|   Sul|    PR|         0|\n",
            "|   Sul|    PR|         7|\n",
            "|   Sul|    PR|        10|\n",
            "+------+------+----------+\n",
            "only showing top 50 rows\n",
            "\n"
          ]
        }
      ]
    },
    {
      "cell_type": "markdown",
      "metadata": {
        "id": "O2rNk4QqXTnw"
      },
      "source": [
        "#Lista dinamica com varias colunas\n",
        "\n",
        "* Utilizar dentro do comando select :\n",
        "> dataframe.select(lista).filter(filtro).show()"
      ]
    },
    {
      "cell_type": "code",
      "metadata": {
        "colab": {
          "base_uri": "https://localhost:8080/"
        },
        "id": "jDdS3TXHXZjm",
        "outputId": "8391fc29-13ed-4eb3-8a99-5db81a641969"
      },
      "source": [
        "lista_colunas = ['regiao','estado','data','casosAcumulados','obitosAcumulados']\n",
        "filtro = F.col('data') >= \"2020-03-20\"\n",
        "df2.select(lista_colunas).filter(filtro).show(20)"
      ],
      "execution_count": 16,
      "outputs": [
        {
          "output_type": "stream",
          "name": "stdout",
          "text": [
            "+------+------+----------+---------------+----------------+\n",
            "|regiao|estado|      data|casosAcumulados|obitosAcumulados|\n",
            "+------+------+----------+---------------+----------------+\n",
            "| Norte|    RO|2020-03-20|              1|               0|\n",
            "| Norte|    RO|2020-03-21|              1|               0|\n",
            "| Norte|    RO|2020-03-22|              3|               0|\n",
            "| Norte|    RO|2020-03-23|              3|               0|\n",
            "| Norte|    RO|2020-03-24|              3|               0|\n",
            "| Norte|    RO|2020-03-25|              5|               0|\n",
            "| Norte|    RO|2020-03-26|              5|               0|\n",
            "| Norte|    RO|2020-03-27|              6|               0|\n",
            "| Norte|    RO|2020-03-28|              6|               0|\n",
            "| Norte|    RO|2020-03-29|              6|               0|\n",
            "| Norte|    RO|2020-03-30|              6|               0|\n",
            "| Norte|    RO|2020-03-31|              8|               1|\n",
            "| Norte|    RO|2020-04-01|              9|               1|\n",
            "| Norte|    RO|2020-04-02|             10|               1|\n",
            "| Norte|    RO|2020-04-03|             10|               1|\n",
            "| Norte|    RO|2020-04-04|             11|               1|\n",
            "| Norte|    RO|2020-04-05|             12|               1|\n",
            "| Norte|    RO|2020-04-06|             14|               1|\n",
            "| Norte|    RO|2020-04-07|             18|               1|\n",
            "| Norte|    RO|2020-04-08|             18|               1|\n",
            "+------+------+----------+---------------+----------------+\n",
            "only showing top 20 rows\n",
            "\n"
          ]
        }
      ]
    },
    {
      "cell_type": "markdown",
      "metadata": {
        "id": "prhOABYiYErb"
      },
      "source": [
        "#Aplicar mais de um filtro dentro do DataFrame"
      ]
    },
    {
      "cell_type": "markdown",
      "metadata": {
        "id": "oGZgzVt9YRsG"
      },
      "source": [
        "* Filtragem pela regiao Sudeste e estado de Minas Gerais\n",
        "\n",
        "> .filter().filter() ...\n",
        "\n",
        "> Para mostrar todas as colunas não precisa do Select : dataframe.filter() ..."
      ]
    },
    {
      "cell_type": "code",
      "metadata": {
        "colab": {
          "base_uri": "https://localhost:8080/"
        },
        "id": "74CdtQZ8YIR4",
        "outputId": "2e9d8f4d-6ca6-44c7-e8a1-ef072f78ad4a"
      },
      "source": [
        "filtroRegiao = F.col('regiao') == 'Sudeste'\n",
        "filtroEstado = F.col('estado') == 'MG'\n",
        "filtroData = F.col('data') >= '2020-03-20'\n",
        "df2.select(F.col('estado'),F.col('data'),F.col('casosAcumulados'),F.col('obitosAcumulados')).filter(filtroRegiao).filter(filtroEstado).filter(filtroData).show(20)"
      ],
      "execution_count": 17,
      "outputs": [
        {
          "output_type": "stream",
          "name": "stdout",
          "text": [
            "+------+----------+---------------+----------------+\n",
            "|estado|      data|casosAcumulados|obitosAcumulados|\n",
            "+------+----------+---------------+----------------+\n",
            "|    MG|2020-03-20|             35|               0|\n",
            "|    MG|2020-03-21|             38|               0|\n",
            "|    MG|2020-03-22|             83|               0|\n",
            "|    MG|2020-03-23|            128|               0|\n",
            "|    MG|2020-03-24|            130|               0|\n",
            "|    MG|2020-03-25|            133|               0|\n",
            "|    MG|2020-03-26|            153|               0|\n",
            "|    MG|2020-03-27|            189|               0|\n",
            "|    MG|2020-03-28|            205|               0|\n",
            "|    MG|2020-03-29|            231|               0|\n",
            "|    MG|2020-03-30|            261|               1|\n",
            "|    MG|2020-03-31|            275|               2|\n",
            "|    MG|2020-04-01|            314|               3|\n",
            "|    MG|2020-04-02|            370|               4|\n",
            "|    MG|2020-04-03|            397|               6|\n",
            "|    MG|2020-04-04|            430|               6|\n",
            "|    MG|2020-04-05|            498|               6|\n",
            "|    MG|2020-04-06|            525|               9|\n",
            "|    MG|2020-04-07|            559|              11|\n",
            "|    MG|2020-04-08|            614|              14|\n",
            "+------+----------+---------------+----------------+\n",
            "only showing top 20 rows\n",
            "\n"
          ]
        }
      ]
    },
    {
      "cell_type": "markdown",
      "metadata": {
        "id": "UWoPRfwTLxrM"
      },
      "source": [
        "* Retornar quantas linhas o dataframe possui .count()"
      ]
    },
    {
      "cell_type": "code",
      "metadata": {
        "colab": {
          "base_uri": "https://localhost:8080/"
        },
        "id": "PiZ62uDqQTr-",
        "outputId": "6fbf5bbe-c165-45ea-d90d-7f72d350f27f"
      },
      "source": [
        "df2.count()"
      ],
      "execution_count": 18,
      "outputs": [
        {
          "output_type": "execute_result",
          "data": {
            "text/plain": [
              "2349"
            ]
          },
          "metadata": {},
          "execution_count": 18
        }
      ]
    },
    {
      "cell_type": "code",
      "metadata": {
        "id": "dbnifq4oQh1B"
      },
      "source": [
        ""
      ],
      "execution_count": 18,
      "outputs": []
    }
  ]
}